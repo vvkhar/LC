{
 "cells": [
  {
   "cell_type": "code",
   "execution_count": 1,
   "metadata": {},
   "outputs": [],
   "source": [
    "#Libraries\n",
    "import pandas as pd\n",
    "import numpy as np\n",
    "from scipy import stats\n",
    "import pandas as pd\n",
    "import seaborn as sns\n",
    "import matplotlib.pyplot as plt\n",
    "from varclushi import VarClusHi\n",
    "from collections import Counter"
   ]
  },
  {
   "cell_type": "code",
   "execution_count": 2,
   "metadata": {},
   "outputs": [
    {
     "name": "stderr",
     "output_type": "stream",
     "text": [
      "/anaconda3/lib/python3.6/site-packages/IPython/core/interactiveshell.py:3044: DtypeWarning: Columns (1,48,58,117,127,128,129,132,133,134,137) have mixed types. Specify dtype option on import or set low_memory=False.\n",
      "  interactivity=interactivity, compiler=compiler, result=result)\n",
      "/anaconda3/lib/python3.6/site-packages/numpy/lib/arraysetops.py:569: FutureWarning: elementwise comparison failed; returning scalar instead, but in the future will perform elementwise comparison\n",
      "  mask |= (ar1 == a)\n"
     ]
    }
   ],
   "source": [
    "#Reading the csv file into a dataframe\n",
    "loanData = pd.read_csv('/Users/vibhor/Desktop/Models/LC/Loan_status_2007-2020Q3.gzip', index_col=0)"
   ]
  },
  {
   "cell_type": "code",
   "execution_count": null,
   "metadata": {},
   "outputs": [],
   "source": [
    "#Dimensions of the dataframe\n",
    "loanData.shape"
   ]
  },
  {
   "cell_type": "code",
   "execution_count": null,
   "metadata": {},
   "outputs": [],
   "source": [
    "loanData.info()"
   ]
  },
  {
   "cell_type": "code",
   "execution_count": null,
   "metadata": {},
   "outputs": [],
   "source": [
    "#only when needed, and delete display after it is shown\n",
    "#pd.set_option('display.max_rows', None)\n",
    "#pd.set_option('display.max_columns', None)"
   ]
  },
  {
   "cell_type": "code",
   "execution_count": null,
   "metadata": {},
   "outputs": [],
   "source": [
    "#Columns of the dataframe, do\n",
    "#loanData.columns #too many columns and so all the cols do not get listed this way\n",
    "list(loanData.columns) #need to print it as a list"
   ]
  },
  {
   "cell_type": "code",
   "execution_count": null,
   "metadata": {},
   "outputs": [],
   "source": [
    "len(loanData.columns[loanData.isna().any()]) # Except the id column all others have N\n",
    "#to print them\n",
    "#loanData.columns[loanData.isna().any().tolist()\n"
   ]
  },
  {
   "cell_type": "code",
   "execution_count": null,
   "metadata": {
    "scrolled": true
   },
   "outputs": [],
   "source": [
    "#target variable is loan_status. Understand what values it takes and its corresponding counts\n",
    "loanData['loan_status'].value_counts()"
   ]
  },
  {
   "cell_type": "code",
   "execution_count": 3,
   "metadata": {},
   "outputs": [
    {
     "data": {
      "text/plain": [
       "<matplotlib.axes._subplots.AxesSubplot at 0x101885588>"
      ]
     },
     "execution_count": 3,
     "metadata": {},
     "output_type": "execute_result"
    },
    {
     "data": {
      "image/png": "[encoded data removed]",
      "text/plain": [
       "<Figure size 432x288 with 1 Axes>"
      ]
     },
     "metadata": {
      "needs_background": "light"
     },
     "output_type": "display_data"
    }
   ],
   "source": [
    "missing_data = loanData.isna().mean() #by variable this returns count(na)/total entries\n",
    "missing_data.plot.hist(bins=20)"
   ]
  },
  {
   "cell_type": "code",
   "execution_count": 4,
   "metadata": {},
   "outputs": [
    {
     "name": "stdout",
     "output_type": "stream",
     "text": [
      "\n",
      "\n",
      " Drop Features:  49\n",
      "['mths_since_last_delinq', 'mths_since_last_record', 'next_pymnt_d', 'mths_since_last_major_derog', 'annual_inc_joint', 'dti_joint', 'verification_status_joint', 'open_acc_6m', 'open_act_il', 'open_il_12m', 'open_il_24m', 'mths_since_rcnt_il', 'total_bal_il', 'il_util', 'open_rv_12m', 'open_rv_24m', 'max_bal_bc', 'all_util', 'inq_fi', 'total_cu_tl', 'inq_last_12m', 'mths_since_recent_bc_dlq', 'mths_since_recent_revol_delinq', 'revol_bal_joint', 'sec_app_fico_range_low', 'sec_app_fico_range_high', 'sec_app_earliest_cr_line', 'sec_app_inq_last_6mths', 'sec_app_mort_acc', 'sec_app_open_acc', 'sec_app_revol_util', 'sec_app_open_act_il', 'sec_app_num_rev_accts', 'sec_app_chargeoff_within_12_mths', 'sec_app_collections_12_mths_ex_med', 'hardship_type', 'hardship_reason', 'hardship_status', 'deferral_term', 'hardship_amount', 'hardship_start_date', 'hardship_end_date', 'payment_plan_start_date', 'hardship_length', 'hardship_dpd', 'hardship_loan_status', 'orig_projected_additional_accrued_interest', 'hardship_payoff_balance_amount', 'hardship_last_payment_amount', 'loan_status']\n"
     ]
    }
   ],
   "source": [
    "drop_list = list(missing_data[missing_data > 0.2].index)\n",
    "print(\"\\n\\n Drop Features: \", len(drop_list))\n",
    "drop_list.append('loan_status')\n",
    "print(drop_list)"
   ]
  },
  {
   "cell_type": "code",
   "execution_count": 6,
   "metadata": {},
   "outputs": [],
   "source": [
    "dropped_data = loanData.loc[:,drop_list] #dataframe of dropped variables. Now checking proportion of loan status where CO (types) NAs are few"
   ]
  },
  {
   "cell_type": "code",
   "execution_count": null,
   "metadata": {},
   "outputs": [],
   "source": [
    "dropped_data[dropped_data['mths_since_last_delinq'].isna()]['loan_status'].value_counts()"
   ]
  },
  {
   "cell_type": "code",
   "execution_count": null,
   "metadata": {},
   "outputs": [],
   "source": [
    "loanData['loan_status'].value_counts()"
   ]
  },
  {
   "cell_type": "code",
   "execution_count": null,
   "metadata": {},
   "outputs": [],
   "source": [
    "(loanData['loan_status'].value_counts()[0] + loanData['loan_status'].value_counts()[1]) / loanData['loan_status'].value_counts().sum()"
   ]
  },
  {
   "cell_type": "code",
   "execution_count": null,
   "metadata": {},
   "outputs": [],
   "source": [
    "(dropped_data[dropped_data['mths_since_last_delinq'].isna()]['loan_status'].value_counts()[0] + dropped_data[dropped_data['mths_since_last_delinq'].isna()]['loan_status'].value_counts()[1]) / dropped_data[dropped_data['mths_since_last_delinq'].isna()]['loan_status'].value_counts().sum()"
   ]
  },
  {
   "cell_type": "code",
   "execution_count": 7,
   "metadata": {},
   "outputs": [
    {
     "name": "stdout",
     "output_type": "stream",
     "text": [
      "['mths_since_last_record', 'mths_since_last_major_derog', 'dti_joint', 'open_acc_6m', 'open_il_12m', 'mths_since_rcnt_il', 'il_util', 'open_rv_24m', 'all_util', 'total_cu_tl', 'mths_since_recent_bc_dlq', 'revol_bal_joint', 'sec_app_fico_range_high', 'sec_app_inq_last_6mths', 'sec_app_open_acc', 'sec_app_open_act_il', 'sec_app_chargeoff_within_12_mths', 'hardship_type', 'hardship_status', 'hardship_amount', 'hardship_end_date', 'hardship_length', 'hardship_loan_status', 'hardship_payoff_balance_amount']\n"
     ]
    },
    {
     "data": {
      "text/plain": [
       "24"
      ]
     },
     "execution_count": 7,
     "metadata": {},
     "output_type": "execute_result"
    }
   ],
   "source": [
    "newdroplist = drop_list\n",
    "for var in drop_list:\n",
    "    if var != 'loan_status':\n",
    "        temp = (dropped_data[dropped_data[var].isna()]['loan_status'].value_counts()[0] + dropped_data[dropped_data[var].isna()]['loan_status'].value_counts()[1]) / dropped_data[dropped_data[var].isna()]['loan_status'].value_counts().sum()\n",
    "        if temp > 0.86:\n",
    "            newdroplist.remove(var)\n",
    "newdroplist.remove('loan_status')\n",
    "print(newdroplist)\n",
    "len(newdroplist)\n"
   ]
  },
  {
   "cell_type": "code",
   "execution_count": 8,
   "metadata": {},
   "outputs": [
    {
     "data": {
      "text/plain": [
       "(2925493, 117)"
      ]
     },
     "execution_count": 8,
     "metadata": {},
     "output_type": "execute_result"
    }
   ],
   "source": [
    "df_refined = loanData.drop(newdroplist, axis = 1, inplace = False)\n",
    "df_refined.shape\n"
   ]
  },
  {
   "cell_type": "code",
   "execution_count": null,
   "metadata": {},
   "outputs": [],
   "source": [
    "#tried to drop rows with NAs but only 1 column has 2 NAs\n",
    "#droprow_df = loanData.dropna(axis=0, how='any', thresh = 2)\n",
    "#droprow_df.shape"
   ]
  },
  {
   "cell_type": "code",
   "execution_count": 9,
   "metadata": {},
   "outputs": [],
   "source": [
    "#counting number of object type (categorical) and numeric and getting a list of those\n",
    "#Counter(df_refined.dtypes)\n",
    "num_cols = df_refined._get_numeric_data().columns\n",
    "cat_cols = list(set(df_refined.columns) - set(num_cols))"
   ]
  },
  {
   "cell_type": "code",
   "execution_count": 80,
   "metadata": {},
   "outputs": [],
   "source": [
    "df_num = df_refined.loc[:,num_cols]"
   ]
  },
  {
   "cell_type": "code",
   "execution_count": null,
   "metadata": {},
   "outputs": [],
   "source": [
    "num_cols[0]"
   ]
  },
  {
   "cell_type": "code",
   "execution_count": 81,
   "metadata": {},
   "outputs": [],
   "source": [
    "#new flag\n",
    "not_problematic = ['Current','Fully Paid']\n",
    "df_num['statusFlag'] = [0 if x in not_problematic else 1 for x in loanData['loan_status']]"
   ]
  },
  {
   "cell_type": "code",
   "execution_count": null,
   "metadata": {},
   "outputs": [],
   "source": [
    "#understand what is wrong wit this\n",
    "list_replace = [replaceVal_flag0,replaceVal_flag1]\n",
    "df_num['loan_amnt'] = df_num.apply(\n",
    "    lambda list_replace: df_num[df_num['statusFlag']==0]['loan_amnt'].fillna(list_replace[0]) if df_num['statusFlag']==0 \n",
    "    else df_num[df_num['statusFlag']==1]['loan_amnt'].fillna(list_replace[1])\n",
    ")"
   ]
  },
  {
   "cell_type": "code",
   "execution_count": 12,
   "metadata": {},
   "outputs": [
    {
     "name": "stderr",
     "output_type": "stream",
     "text": [
      "/anaconda3/lib/python3.6/site-packages/pandas/core/generic.py:6130: SettingWithCopyWarning: \n",
      "A value is trying to be set on a copy of a slice from a DataFrame\n",
      "\n",
      "See the caveats in the documentation: http://pandas.pydata.org/pandas-docs/stable/indexing.html#indexing-view-versus-copy\n",
      "  self._update_inplace(new_data)\n"
     ]
    }
   ],
   "source": [
    "#takes about 15 mins\n",
    "for var in num_cols:\n",
    "    if var != 'statusFlag':\n",
    "        replaceVal_flag0 = df_num[df_num['statusFlag']==0][var].mean()\n",
    "        replaceVal_flag1 = df_num[df_num['statusFlag']==1][var].mean()\n",
    "\n",
    "        df_num[df_num['statusFlag']==1][var].fillna(replaceVal_flag1, inplace = True)\n",
    "        df_num[df_num['statusFlag']==0][var].fillna(replaceVal_flag0, inplace = True)\n"
   ]
  },
  {
   "cell_type": "code",
   "execution_count": 82,
   "metadata": {},
   "outputs": [],
   "source": [
    "replaceVal_flag0 = df_num[df_num['statusFlag']==0]['annual_inc'].mean()\n",
    "replaceVal_flag1 = df_num[df_num['statusFlag']==1]['annual_inc'].mean()"
   ]
  },
  {
   "cell_type": "code",
   "execution_count": 88,
   "metadata": {},
   "outputs": [
    {
     "data": {
      "text/plain": [
       "0          24000.00\n",
       "1          30000.00\n",
       "2          12252.00\n",
       "3          49200.00\n",
       "4          80000.00\n",
       "5          36000.00\n",
       "6          47004.00\n",
       "7          48000.00\n",
       "8          40000.00\n",
       "9          15000.00\n",
       "10         72000.00\n",
       "11         75000.00\n",
       "12         30000.00\n",
       "13         15000.00\n",
       "14        100000.00\n",
       "15         28000.00\n",
       "16         42000.00\n",
       "17        110000.00\n",
       "18         84000.00\n",
       "19         77385.19\n",
       "20         43370.00\n",
       "21        105000.00\n",
       "22         50000.00\n",
       "23         50000.00\n",
       "24         76000.00\n",
       "25         92000.00\n",
       "26         60000.00\n",
       "27         50004.00\n",
       "28        106000.00\n",
       "29         25000.00\n",
       "            ...    \n",
       "105421     29500.00\n",
       "105422     49080.01\n",
       "105423     50000.00\n",
       "105424    141000.00\n",
       "105425     49000.00\n",
       "105426     40000.00\n",
       "105427     59716.00\n",
       "105428     98000.00\n",
       "105429     82360.00\n",
       "105430    100000.00\n",
       "105431     35000.00\n",
       "105432     70000.00\n",
       "105433     70000.00\n",
       "105434     45000.00\n",
       "105435     75000.00\n",
       "105436     67000.00\n",
       "105437     65000.00\n",
       "105438     65400.00\n",
       "105439     27000.00\n",
       "105440    108000.00\n",
       "105441     32000.00\n",
       "105442    180000.00\n",
       "105443     64500.00\n",
       "105444    100000.00\n",
       "105445     53000.00\n",
       "105446    107000.00\n",
       "105447     65000.00\n",
       "105448     37000.00\n",
       "105449     41000.00\n",
       "105450    105700.00\n",
       "Name: annual_inc, Length: 2925493, dtype: float64"
      ]
     },
     "execution_count": 88,
     "metadata": {},
     "output_type": "execute_result"
    }
   ],
   "source": [
    "df_num['annual_inc'].where(df_num['statusFlag']==1,df_num['annual_inc'].fillna(replaceVal_flag1))"
   ]
  },
  {
   "cell_type": "code",
   "execution_count": 90,
   "metadata": {},
   "outputs": [
    {
     "data": {
      "text/plain": [
       "5"
      ]
     },
     "execution_count": 90,
     "metadata": {},
     "output_type": "execute_result"
    }
   ],
   "source": [
    "df_num['annual_inc'].isna().sum()"
   ]
  },
  {
   "cell_type": "code",
   "execution_count": 20,
   "metadata": {},
   "outputs": [
    {
     "name": "stdout",
     "output_type": "stream",
     "text": [
      "replaceVal_flag0:  81054.43477979732\n",
      "\n",
      "replaceVal_flag1:  72815.63710491046\n"
     ]
    }
   ],
   "source": [
    "print(\"replaceVal_flag0: \", replaceVal_flag0)\n",
    "print(\"\\nreplaceVal_flag1: \", replaceVal_flag1)"
   ]
  },
  {
   "cell_type": "code",
   "execution_count": null,
   "metadata": {},
   "outputs": [],
   "source": []
  },
  {
   "cell_type": "code",
   "execution_count": 78,
   "metadata": {},
   "outputs": [
    {
     "data": {
      "text/plain": [
       "5"
      ]
     },
     "execution_count": 78,
     "metadata": {},
     "output_type": "execute_result"
    }
   ],
   "source": [
    "listofvars = ['annual_inc','statusFlag']\n",
    "df_num['annual_inc'].isna().sum()\n",
    "\n",
    "#df_num[mask]"
   ]
  },
  {
   "cell_type": "code",
   "execution_count": 73,
   "metadata": {},
   "outputs": [
    {
     "data": {
      "text/html": [
       "<div>\n",
       "<style scoped>\n",
       "    .dataframe tbody tr th:only-of-type {\n",
       "        vertical-align: middle;\n",
       "    }\n",
       "\n",
       "    .dataframe tbody tr th {\n",
       "        vertical-align: top;\n",
       "    }\n",
       "\n",
       "    .dataframe thead th {\n",
       "        text-align: right;\n",
       "    }\n",
       "</style>\n",
       "<table border=\"1\" class=\"dataframe\">\n",
       "  <thead>\n",
       "    <tr style=\"text-align: right;\">\n",
       "      <th></th>\n",
       "      <th>annual_inc</th>\n",
       "      <th>statusFlag</th>\n",
       "    </tr>\n",
       "  </thead>\n",
       "  <tbody>\n",
       "    <tr>\n",
       "      <th>39786</th>\n",
       "      <td>NaN</td>\n",
       "      <td>1</td>\n",
       "    </tr>\n",
       "    <tr>\n",
       "      <th>42450</th>\n",
       "      <td>NaN</td>\n",
       "      <td>1</td>\n",
       "    </tr>\n",
       "    <tr>\n",
       "      <th>42451</th>\n",
       "      <td>NaN</td>\n",
       "      <td>1</td>\n",
       "    </tr>\n",
       "    <tr>\n",
       "      <th>42481</th>\n",
       "      <td>NaN</td>\n",
       "      <td>1</td>\n",
       "    </tr>\n",
       "    <tr>\n",
       "      <th>42534</th>\n",
       "      <td>NaN</td>\n",
       "      <td>1</td>\n",
       "    </tr>\n",
       "  </tbody>\n",
       "</table>\n",
       "</div>"
      ],
      "text/plain": [
       "       annual_inc  statusFlag\n",
       "39786         NaN           1\n",
       "42450         NaN           1\n",
       "42451         NaN           1\n",
       "42481         NaN           1\n",
       "42534         NaN           1"
      ]
     },
     "execution_count": 73,
     "metadata": {},
     "output_type": "execute_result"
    }
   ],
   "source": [
    "df_num.loc[df_num['annual_inc'].isna(), listofvars]"
   ]
  },
  {
   "cell_type": "code",
   "execution_count": 71,
   "metadata": {},
   "outputs": [],
   "source": [
    "#df_num['annual_inc'].fillna(replaceVal_flag1, inplace = True)\n",
    "pd.DataFrame(df_num[df_num['statusFlag']==1]['annual_inc']).fillna(replaceVal_flag1, inplace = True)"
   ]
  },
  {
   "cell_type": "code",
   "execution_count": 72,
   "metadata": {},
   "outputs": [
    {
     "data": {
      "text/plain": [
       "True"
      ]
     },
     "execution_count": 72,
     "metadata": {},
     "output_type": "execute_result"
    }
   ],
   "source": [
    "df_num['annual_inc'].isna().any()"
   ]
  },
  {
   "cell_type": "code",
   "execution_count": 63,
   "metadata": {},
   "outputs": [
    {
     "data": {
      "text/html": [
       "<div>\n",
       "<style scoped>\n",
       "    .dataframe tbody tr th:only-of-type {\n",
       "        vertical-align: middle;\n",
       "    }\n",
       "\n",
       "    .dataframe tbody tr th {\n",
       "        vertical-align: top;\n",
       "    }\n",
       "\n",
       "    .dataframe thead th {\n",
       "        text-align: right;\n",
       "    }\n",
       "</style>\n",
       "<table border=\"1\" class=\"dataframe\">\n",
       "  <thead>\n",
       "    <tr style=\"text-align: right;\">\n",
       "      <th></th>\n",
       "      <th>annual_inc</th>\n",
       "    </tr>\n",
       "  </thead>\n",
       "  <tbody>\n",
       "    <tr>\n",
       "      <th>1</th>\n",
       "      <td>30000.0</td>\n",
       "    </tr>\n",
       "    <tr>\n",
       "      <th>8</th>\n",
       "      <td>40000.0</td>\n",
       "    </tr>\n",
       "    <tr>\n",
       "      <th>9</th>\n",
       "      <td>15000.0</td>\n",
       "    </tr>\n",
       "    <tr>\n",
       "      <th>12</th>\n",
       "      <td>30000.0</td>\n",
       "    </tr>\n",
       "    <tr>\n",
       "      <th>14</th>\n",
       "      <td>100000.0</td>\n",
       "    </tr>\n",
       "  </tbody>\n",
       "</table>\n",
       "</div>"
      ],
      "text/plain": [
       "    annual_inc\n",
       "1      30000.0\n",
       "8      40000.0\n",
       "9      15000.0\n",
       "12     30000.0\n",
       "14    100000.0"
      ]
     },
     "execution_count": 63,
     "metadata": {},
     "output_type": "execute_result"
    }
   ],
   "source": [
    "pd.DataFrame(df_num[df_num['statusFlag']==1]['annual_inc']).head()"
   ]
  },
  {
   "cell_type": "markdown",
   "metadata": {},
   "source": [
    "# #Clustering"
   ]
  },
  {
   "cell_type": "code",
   "execution_count": null,
   "metadata": {},
   "outputs": [],
   "source": [
    "replaceVal_flag0 = df_num[df_num['statusFlag']==0]['annual_inc'].mean()\n",
    "replaceVal_flag1 = df_num[df_num['statusFlag']==1]['annual_inc'].mean()\n",
    "pd.DataFrame(df_num[df_num['statusFlag']==1]['annual_inc']).fillna(replaceVal_flag1, inplace = True)\n",
    "df_num[df_num['statusFlag']==0]['annual_inc'].fillna(replaceVal_flag0, inplace = True)"
   ]
  },
  {
   "cell_type": "code",
   "execution_count": null,
   "metadata": {},
   "outputs": [],
   "source": [
    "df_num['annual_inc'].isna().any()"
   ]
  },
  {
   "cell_type": "code",
   "execution_count": null,
   "metadata": {},
   "outputs": [],
   "source": [
    "df_num['statusFlag'].value_counts()"
   ]
  },
  {
   "cell_type": "code",
   "execution_count": null,
   "metadata": {},
   "outputs": [],
   "source": [
    "len(df_num['annual_inc'])"
   ]
  },
  {
   "cell_type": "code",
   "execution_count": null,
   "metadata": {},
   "outputs": [],
   "source": [
    "2528799 + 396694"
   ]
  },
  {
   "cell_type": "code",
   "execution_count": null,
   "metadata": {},
   "outputs": [],
   "source": [
    "df_Y = df_num.pop('statusFlag')"
   ]
  },
  {
   "cell_type": "code",
   "execution_count": null,
   "metadata": {},
   "outputs": [],
   "source": [
    "df_num_short = df_num.sample(frac = 0.3)"
   ]
  },
  {
   "cell_type": "code",
   "execution_count": null,
   "metadata": {},
   "outputs": [],
   "source": [
    "loanData_vc = VarClusHi(df_num_short,maxclus=None)"
   ]
  },
  {
   "cell_type": "code",
   "execution_count": null,
   "metadata": {},
   "outputs": [],
   "source": [
    "loanData_vc.varclus()"
   ]
  },
  {
   "cell_type": "code",
   "execution_count": null,
   "metadata": {},
   "outputs": [],
   "source": [
    "loanData_vc.corrs"
   ]
  },
  {
   "cell_type": "code",
   "execution_count": null,
   "metadata": {},
   "outputs": [],
   "source": [
    "loanData_vc.rsquare"
   ]
  },
  {
   "cell_type": "code",
   "execution_count": null,
   "metadata": {},
   "outputs": [],
   "source": [
    "#loanData_vc.info"
   ]
  },
  {
   "cell_type": "code",
   "execution_count": null,
   "metadata": {},
   "outputs": [],
   "source": []
  },
  {
   "cell_type": "code",
   "execution_count": null,
   "metadata": {},
   "outputs": [],
   "source": []
  },
  {
   "cell_type": "code",
   "execution_count": null,
   "metadata": {},
   "outputs": [],
   "source": [
    "not_problematic = ['Current','Fully Paid']\n",
    "loanData['statusFlag'] = [0 if x in not_problematic else 1 for x in loanData['loan_status']]"
   ]
  },
  {
   "cell_type": "code",
   "execution_count": null,
   "metadata": {},
   "outputs": [],
   "source": [
    "loanData['statusFlag'].value_counts()"
   ]
  },
  {
   "cell_type": "markdown",
   "metadata": {},
   "source": [
    "#determining cat and num vars\n",
    "#removing vars that have too many NAs\n",
    "#clustering\n",
    "#RF for var select\n",
    "#IV and WOE\n"
   ]
  },
  {
   "cell_type": "code",
   "execution_count": null,
   "metadata": {},
   "outputs": [],
   "source": []
  },
  {
   "cell_type": "code",
   "execution_count": null,
   "metadata": {},
   "outputs": [],
   "source": []
  },
  {
   "cell_type": "code",
   "execution_count": null,
   "metadata": {},
   "outputs": [],
   "source": []
  },
  {
   "cell_type": "code",
   "execution_count": null,
   "metadata": {},
   "outputs": [],
   "source": []
  },
  {
   "cell_type": "code",
   "execution_count": null,
   "metadata": {},
   "outputs": [],
   "source": []
  },
  {
   "cell_type": "code",
   "execution_count": null,
   "metadata": {},
   "outputs": [],
   "source": [
    "df_dropped = pd.concat([dropped_data, df_Y], axis=1)"
   ]
  },
  {
   "cell_type": "markdown",
   "metadata": {},
   "source": []
  },
  {
   "cell_type": "code",
   "execution_count": null,
   "metadata": {},
   "outputs": [],
   "source": []
  },
  {
   "cell_type": "code",
   "execution_count": null,
   "metadata": {},
   "outputs": [],
   "source": []
  },
  {
   "cell_type": "code",
   "execution_count": null,
   "metadata": {},
   "outputs": [],
   "source": []
  },
  {
   "cell_type": "code",
   "execution_count": null,
   "metadata": {},
   "outputs": [],
   "source": []
  }
 ],
 "metadata": {
  "kernelspec": {
   "display_name": "Python 3",
   "language": "python",
   "name": "python3"
  },
  "language_info": {
   "codemirror_mode": {
    "name": "ipython",
    "version": 3
   },
   "file_extension": ".py",
   "mimetype": "text/x-python",
   "name": "python",
   "nbconvert_exporter": "python",
   "pygments_lexer": "ipython3",
   "version": "3.6.8"
  }
 },
 "nbformat": 4,
 "nbformat_minor": 2
}
