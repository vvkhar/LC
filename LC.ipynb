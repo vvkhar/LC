{
 "cells": [
  {
   "cell_type": "code",
   "execution_count": 1,
   "metadata": {},
   "outputs": [],
   "source": [
    "#Import necessary Libraries\n",
    "import pandas as pd\n",
    "import numpy as np\n",
    "from scipy import stats\n",
    "import pandas as pd\n",
    "import seaborn as sns\n",
    "import matplotlib.pyplot as plt\n",
    "from matplotlib import pyplot\n",
    "from varclushi import VarClusHi\n",
    "from datetime import datetime\n",
    "from operator import attrgetter\n",
    "from scipy.stats.mstats import winsorize\n",
    "import statsmodels.api as sm\n",
    "from collections import Counter\n",
    "from sklearn.model_selection import train_test_split\n",
    "from sklearn.linear_model import LogisticRegression\n",
    "from sklearn.linear_model import LogisticRegressionCV\n",
    "from sklearn.model_selection import  GridSearchCV, cross_val_score, RepeatedStratifiedKFold, StratifiedKFold\n",
    "from sklearn.metrics import accuracy_score, confusion_matrix,roc_curve, roc_auc_score, precision_score, recall_score, precision_recall_curve\n",
    "from sklearn.metrics import auc\n",
    "from sklearn.preprocessing import LabelEncoder\n",
    "from sklearn.preprocessing import StandardScaler\n",
    "from sklearn.ensemble import RandomForestClassifier\n",
    "from category_encoders import TargetEncoder\n",
    "from category_encoders import WOEEncoder"
   ]
  },
  {
   "cell_type": "code",
   "execution_count": 2,
   "metadata": {},
   "outputs": [],
   "source": [
    "#Display settings \n",
    "display = pd.options.display\n",
    "display.max_columns = 1000\n",
    "display.max_rows = 1000\n",
    "display.max_colwidth = 199\n",
    "display.width = 1000"
   ]
  },
  {
   "cell_type": "code",
   "execution_count": 3,
   "metadata": {},
   "outputs": [
    {
     "name": "stderr",
     "output_type": "stream",
     "text": [
      "/anaconda3/lib/python3.6/site-packages/IPython/core/interactiveshell.py:3044: DtypeWarning: Columns (1,48,58,117,127,128,129,132,133,134,137) have mixed types. Specify dtype option on import or set low_memory=False.\n",
      "  interactivity=interactivity, compiler=compiler, result=result)\n",
      "/anaconda3/lib/python3.6/site-packages/numpy/lib/arraysetops.py:569: FutureWarning: elementwise comparison failed; returning scalar instead, but in the future will perform elementwise comparison\n",
      "  mask |= (ar1 == a)\n"
     ]
    }
   ],
   "source": [
    "#Reading the csv file into a dataframe\n",
    "loanData = pd.read_csv('/Users/vibhor/Desktop/Models/LC/Loan_status_2007-2020Q3.gzip', index_col=0)"
   ]
  },
  {
   "cell_type": "code",
   "execution_count": 4,
   "metadata": {},
   "outputs": [
    {
     "data": {
      "text/plain": [
       "(2925493, 141)"
      ]
     },
     "execution_count": 4,
     "metadata": {},
     "output_type": "execute_result"
    }
   ],
   "source": [
    "#Dimensions of the dataframe\n",
    "loanData.shape"
   ]
  },
  {
   "cell_type": "code",
   "execution_count": 5,
   "metadata": {},
   "outputs": [
    {
     "name": "stdout",
     "output_type": "stream",
     "text": [
      "<class 'pandas.core.frame.DataFrame'>\n",
      "Int64Index: 2925493 entries, 0 to 105450\n",
      "Columns: 141 entries, id to debt_settlement_flag\n",
      "dtypes: float64(106), object(35)\n",
      "memory usage: 3.1+ GB\n"
     ]
    }
   ],
   "source": [
    "loanData.info()"
   ]
  },
  {
   "cell_type": "code",
   "execution_count": 6,
   "metadata": {},
   "outputs": [
    {
     "name": "stdout",
     "output_type": "stream",
     "text": [
      "['id', 'loan_amnt', 'funded_amnt', 'funded_amnt_inv', 'term', 'int_rate', 'installment', 'grade', 'sub_grade', 'emp_title', 'emp_length', 'home_ownership', 'annual_inc', 'verification_status', 'issue_d', 'loan_status', 'pymnt_plan', 'url', 'purpose', 'title', 'zip_code', 'addr_state', 'dti', 'delinq_2yrs', 'earliest_cr_line', 'fico_range_low', 'fico_range_high', 'inq_last_6mths', 'mths_since_last_delinq', 'mths_since_last_record', 'open_acc', 'pub_rec', 'revol_bal', 'revol_util', 'total_acc', 'initial_list_status', 'out_prncp', 'out_prncp_inv', 'total_pymnt', 'total_pymnt_inv', 'total_rec_prncp', 'total_rec_int', 'total_rec_late_fee', 'recoveries', 'collection_recovery_fee', 'last_pymnt_d', 'last_pymnt_amnt', 'next_pymnt_d', 'last_credit_pull_d', 'last_fico_range_high', 'last_fico_range_low', 'collections_12_mths_ex_med', 'mths_since_last_major_derog', 'policy_code', 'application_type', 'annual_inc_joint', 'dti_joint', 'verification_status_joint', 'acc_now_delinq', 'tot_coll_amt', 'tot_cur_bal', 'open_acc_6m', 'open_act_il', 'open_il_12m', 'open_il_24m', 'mths_since_rcnt_il', 'total_bal_il', 'il_util', 'open_rv_12m', 'open_rv_24m', 'max_bal_bc', 'all_util', 'total_rev_hi_lim', 'inq_fi', 'total_cu_tl', 'inq_last_12m', 'acc_open_past_24mths', 'avg_cur_bal', 'bc_open_to_buy', 'bc_util', 'chargeoff_within_12_mths', 'delinq_amnt', 'mo_sin_old_il_acct', 'mo_sin_old_rev_tl_op', 'mo_sin_rcnt_rev_tl_op', 'mo_sin_rcnt_tl', 'mort_acc', 'mths_since_recent_bc', 'mths_since_recent_bc_dlq', 'mths_since_recent_inq', 'mths_since_recent_revol_delinq', 'num_accts_ever_120_pd', 'num_actv_bc_tl', 'num_actv_rev_tl', 'num_bc_sats', 'num_bc_tl', 'num_il_tl', 'num_op_rev_tl', 'num_rev_accts', 'num_rev_tl_bal_gt_0', 'num_sats', 'num_tl_120dpd_2m', 'num_tl_30dpd', 'num_tl_90g_dpd_24m', 'num_tl_op_past_12m', 'pct_tl_nvr_dlq', 'percent_bc_gt_75', 'pub_rec_bankruptcies', 'tax_liens', 'tot_hi_cred_lim', 'total_bal_ex_mort', 'total_bc_limit', 'total_il_high_credit_limit', 'revol_bal_joint', 'sec_app_fico_range_low', 'sec_app_fico_range_high', 'sec_app_earliest_cr_line', 'sec_app_inq_last_6mths', 'sec_app_mort_acc', 'sec_app_open_acc', 'sec_app_revol_util', 'sec_app_open_act_il', 'sec_app_num_rev_accts', 'sec_app_chargeoff_within_12_mths', 'sec_app_collections_12_mths_ex_med', 'hardship_flag', 'hardship_type', 'hardship_reason', 'hardship_status', 'deferral_term', 'hardship_amount', 'hardship_start_date', 'hardship_end_date', 'payment_plan_start_date', 'hardship_length', 'hardship_dpd', 'hardship_loan_status', 'orig_projected_additional_accrued_interest', 'hardship_payoff_balance_amount', 'hardship_last_payment_amount', 'debt_settlement_flag']\n"
     ]
    }
   ],
   "source": [
    "#Retrieving the names of the columns in the datasets\n",
    "print(list(loanData.columns))"
   ]
  },
  {
   "cell_type": "code",
   "execution_count": 7,
   "metadata": {},
   "outputs": [
    {
     "data": {
      "text/plain": [
       "0"
      ]
     },
     "execution_count": 7,
     "metadata": {},
     "output_type": "execute_result"
    }
   ],
   "source": [
    "loanData.duplicated().sum() # no duplicates (takes time)"
   ]
  },
  {
   "cell_type": "code",
   "execution_count": 8,
   "metadata": {},
   "outputs": [
    {
     "data": {
      "text/plain": [
       "140"
      ]
     },
     "execution_count": 8,
     "metadata": {},
     "output_type": "execute_result"
    }
   ],
   "source": [
    "len(loanData.columns[loanData.isna().any()]) # Except the id column all others have N\n",
    "#to print them\n",
    "#loanData.columns[loanData.isna().any().tolist()\n"
   ]
  },
  {
   "cell_type": "code",
   "execution_count": 9,
   "metadata": {},
   "outputs": [],
   "source": [
    "missing_data = loanData.isna().mean() #by variable this returns count(na)/total entries\n",
    "#missing_data.plot.hist(bins=20)"
   ]
  },
  {
   "cell_type": "code",
   "execution_count": 10,
   "metadata": {},
   "outputs": [
    {
     "name": "stdout",
     "output_type": "stream",
     "text": [
      "\n",
      "\n",
      " Drop Features:  49\n",
      "['mths_since_last_delinq', 'mths_since_last_record', 'next_pymnt_d', 'mths_since_last_major_derog', 'annual_inc_joint', 'dti_joint', 'verification_status_joint', 'open_acc_6m', 'open_act_il', 'open_il_12m', 'open_il_24m', 'mths_since_rcnt_il', 'total_bal_il', 'il_util', 'open_rv_12m', 'open_rv_24m', 'max_bal_bc', 'all_util', 'inq_fi', 'total_cu_tl', 'inq_last_12m', 'mths_since_recent_bc_dlq', 'mths_since_recent_revol_delinq', 'revol_bal_joint', 'sec_app_fico_range_low', 'sec_app_fico_range_high', 'sec_app_earliest_cr_line', 'sec_app_inq_last_6mths', 'sec_app_mort_acc', 'sec_app_open_acc', 'sec_app_revol_util', 'sec_app_open_act_il', 'sec_app_num_rev_accts', 'sec_app_chargeoff_within_12_mths', 'sec_app_collections_12_mths_ex_med', 'hardship_type', 'hardship_reason', 'hardship_status', 'deferral_term', 'hardship_amount', 'hardship_start_date', 'hardship_end_date', 'payment_plan_start_date', 'hardship_length', 'hardship_dpd', 'hardship_loan_status', 'orig_projected_additional_accrued_interest', 'hardship_payoff_balance_amount', 'hardship_last_payment_amount']\n"
     ]
    }
   ],
   "source": [
    "drop_list = list(missing_data[missing_data > 0.2].index)\n",
    "print(\"\\n\\n Drop Features: \", len(drop_list))\n",
    "print(drop_list)"
   ]
  },
  {
   "cell_type": "code",
   "execution_count": 11,
   "metadata": {},
   "outputs": [],
   "source": [
    "df = loanData.copy(deep = True)"
   ]
  },
  {
   "cell_type": "markdown",
   "metadata": {},
   "source": [
    "Copied from Arun"
   ]
  },
  {
   "cell_type": "code",
   "execution_count": 12,
   "metadata": {},
   "outputs": [],
   "source": [
    "#Data cleanup\n",
    "df['int_rate'] = df['int_rate'].str[:-1].astype(float) #Strip off the %sign\n",
    "df['revol_util'] = df['revol_util'].str[:-1].astype(float) #Strip off the %sign\n",
    "\n",
    "df['emp_length'].fillna(value=-1,inplace=True)\n",
    "df['emp_length'].replace(to_replace='< 1 year', value='0', inplace=True)\n",
    "df['emp_length'].replace(to_replace='[^0-9]+', value='', inplace=True,regex=True)\n",
    "df['term'] = pd.to_numeric(df['term'].str.replace(' months', ''))"
   ]
  },
  {
   "cell_type": "code",
   "execution_count": 13,
   "metadata": {},
   "outputs": [
    {
     "data": {
      "text/plain": [
       "0    10\n",
       "dtype: object"
      ]
     },
     "execution_count": 13,
     "metadata": {},
     "output_type": "execute_result"
    }
   ],
   "source": [
    "df['emp_length'].mode()"
   ]
  },
  {
   "cell_type": "code",
   "execution_count": 14,
   "metadata": {},
   "outputs": [],
   "source": [
    "df['emp_length'].replace(to_replace = -1, value = '10', inplace=True)"
   ]
  },
  {
   "cell_type": "code",
   "execution_count": 15,
   "metadata": {},
   "outputs": [
    {
     "data": {
      "text/plain": [
       "0    Mar-2016\n",
       "dtype: object"
      ]
     },
     "execution_count": 15,
     "metadata": {},
     "output_type": "execute_result"
    }
   ],
   "source": [
    "df[\"issue_d\"].mode()"
   ]
  },
  {
   "cell_type": "code",
   "execution_count": 16,
   "metadata": {},
   "outputs": [],
   "source": [
    "#Cannot run the strptime function without replacing NaNs\n",
    "df['issue_d'].fillna(value = 'Mar-2016', inplace = True)"
   ]
  },
  {
   "cell_type": "code",
   "execution_count": 17,
   "metadata": {},
   "outputs": [],
   "source": [
    "#Cleaning up the date variables and also creating a loan vintage variable\n",
    "df['issue_date']  = df[\"issue_d\"].apply(lambda x: datetime.strptime(x, \"%b-%Y\"))\n"
   ]
  },
  {
   "cell_type": "code",
   "execution_count": 18,
   "metadata": {},
   "outputs": [],
   "source": [
    "#creating new vintage variable\n",
    "df['vintage'] = pd.to_datetime(df['issue_date']).dt.year"
   ]
  },
  {
   "cell_type": "code",
   "execution_count": 19,
   "metadata": {},
   "outputs": [
    {
     "data": {
      "text/plain": [
       "0    Sep-2005\n",
       "dtype: object"
      ]
     },
     "execution_count": 19,
     "metadata": {},
     "output_type": "execute_result"
    }
   ],
   "source": [
    "df['earliest_cr_line'].mode()"
   ]
  },
  {
   "cell_type": "code",
   "execution_count": 20,
   "metadata": {},
   "outputs": [],
   "source": [
    "df['earliest_cr_line'].fillna(value = 'Sep-2005', inplace = True) "
   ]
  },
  {
   "cell_type": "code",
   "execution_count": 21,
   "metadata": {},
   "outputs": [],
   "source": [
    "#Creating a new variable for length of history at loan issue\n",
    "df['oldest_credit_date']  = df[\"earliest_cr_line\"].apply(lambda x: datetime.strptime(x, \"%b-%Y\"))\n",
    "\n",
    "\n",
    "df['credit_hist'] = (df.issue_date.dt.to_period('M') \\\n",
    "                                - df.oldest_credit_date.dt.to_period('M')).apply(attrgetter('n'))\n",
    "\n",
    "#If the attribute getter is not applied we get month ends instead of int like values"
   ]
  },
  {
   "cell_type": "code",
   "execution_count": 22,
   "metadata": {},
   "outputs": [],
   "source": [
    "#winsorizing dti to upper and lower 0.1 percentile limits\n",
    "df['dti'] = winsorize(df['dti'], limits = (.001, 0.001)) \n",
    "\n",
    "#annual income has a 0 for some loans and that will create problems when creating pti and loan_to_inc variables \n",
    "#winsorizing annual income lower to 0.1 percentile limits\n",
    "\n",
    "df['annual_inc'] = winsorize(df['annual_inc'], limits = (.002, 0)) \n"
   ]
  },
  {
   "cell_type": "code",
   "execution_count": 23,
   "metadata": {},
   "outputs": [
    {
     "data": {
      "text/plain": [
       "count    2.925488e+06\n",
       "mean     7.994902e+04\n",
       "std      1.117397e+05\n",
       "min      8.184000e+03\n",
       "0.01%    8.184000e+03\n",
       "0.05%    8.184000e+03\n",
       "0.1%     8.184000e+03\n",
       "50%      6.600000e+04\n",
       "max      1.100000e+08\n",
       "Name: annual_inc, dtype: float64"
      ]
     },
     "execution_count": 23,
     "metadata": {},
     "output_type": "execute_result"
    }
   ],
   "source": [
    "df['annual_inc'].describe(percentiles = [0.0001, 0.0005, 0.001])"
   ]
  },
  {
   "cell_type": "code",
   "execution_count": 24,
   "metadata": {},
   "outputs": [],
   "source": [
    "#Funded Ratio - Hypothesis: If smaller fraction of loan gets funded that could point to a problem in obligor profile\n",
    "df['fund_ratio'] = df['funded_amnt'].div(df['loan_amnt'])\n",
    "\n",
    "#Loan to Income Ratio\n",
    "df['loan_to_inc'] = df['funded_amnt'].div(df['annual_inc'])\n",
    "\n",
    "#Monthly payment to income ratio\n",
    "df['pti'] = (12 * df['installment']).div(df['annual_inc'])"
   ]
  },
  {
   "cell_type": "markdown",
   "metadata": {},
   "source": [
    "Some of these variables in drop_list are important but they have just too many missing values to fill, thats why dropping them all"
   ]
  },
  {
   "cell_type": "code",
   "execution_count": 25,
   "metadata": {},
   "outputs": [
    {
     "data": {
      "text/plain": [
       "mths_since_last_delinq                        1536503\n",
       "mths_since_last_record                        2498045\n",
       "next_pymnt_d                                  1860332\n",
       "mths_since_last_major_derog                   2202576\n",
       "annual_inc_joint                              2714980\n",
       "dti_joint                                     2714984\n",
       "verification_status_joint                     2730706\n",
       "open_acc_6m                                    866131\n",
       "open_act_il                                    866130\n",
       "open_il_12m                                    866130\n",
       "open_il_24m                                    866130\n",
       "mths_since_rcnt_il                             926530\n",
       "total_bal_il                                   866130\n",
       "il_util                                       1157149\n",
       "open_rv_12m                                    866130\n",
       "open_rv_24m                                    866130\n",
       "max_bal_bc                                     866130\n",
       "all_util                                       866486\n",
       "inq_fi                                         866130\n",
       "total_cu_tl                                    866131\n",
       "inq_last_12m                                   866131\n",
       "mths_since_recent_bc_dlq                      2274851\n",
       "mths_since_recent_revol_delinq                1994887\n",
       "revol_bal_joint                               2727670\n",
       "sec_app_fico_range_low                        2727669\n",
       "sec_app_fico_range_high                       2727669\n",
       "sec_app_earliest_cr_line                      2727669\n",
       "sec_app_inq_last_6mths                        2727669\n",
       "sec_app_mort_acc                              2727669\n",
       "sec_app_open_acc                              2727669\n",
       "sec_app_revol_util                            2730906\n",
       "sec_app_open_act_il                           2727669\n",
       "sec_app_num_rev_accts                         2727669\n",
       "sec_app_chargeoff_within_12_mths              2727669\n",
       "sec_app_collections_12_mths_ex_med            2727669\n",
       "hardship_type                                 2781855\n",
       "hardship_reason                               2781861\n",
       "hardship_status                               2781858\n",
       "deferral_term                                 2781855\n",
       "hardship_amount                               2743417\n",
       "hardship_start_date                           2781855\n",
       "hardship_end_date                             2781855\n",
       "payment_plan_start_date                       2781855\n",
       "hardship_length                               2781855\n",
       "hardship_dpd                                  2781856\n",
       "hardship_loan_status                          2782082\n",
       "orig_projected_additional_accrued_interest    2746253\n",
       "hardship_payoff_balance_amount                2743417\n",
       "hardship_last_payment_amount                  2743417\n",
       "dtype: int64"
      ]
     },
     "execution_count": 25,
     "metadata": {},
     "output_type": "execute_result"
    }
   ],
   "source": [
    "df.loc[:,drop_list].isna().sum()"
   ]
  },
  {
   "cell_type": "code",
   "execution_count": 26,
   "metadata": {},
   "outputs": [
    {
     "data": {
      "text/plain": [
       "w    2139434\n",
       "f     786058\n",
       "Name: initial_list_status, dtype: int64"
      ]
     },
     "execution_count": 26,
     "metadata": {},
     "output_type": "execute_result"
    }
   ],
   "source": [
    "df['initial_list_status'].value_counts() #does most of what fund ratio does, so dropping that below"
   ]
  },
  {
   "cell_type": "code",
   "execution_count": 27,
   "metadata": {},
   "outputs": [],
   "source": [
    "#### From Arun and judgment\n",
    "other_vars_remove  = ['url','oldest_credit_date','earliest_cr_line','policy_code','zip_code', 'sec_app_fico_range_low',\n",
    "                          'sec_app_fico_range_high','sec_app_earliest_cr_line','fico_range_low', 'fico_range_high',\n",
    "                     'annual_inc_joint','dti_joint','verification_status_joint', 'revol_bal_joint','sec_app_inq_last_6mths',\n",
    "                     'sec_app_mort_acc','sec_app_open_acc','sec_app_revol_util','sec_app_open_act_il', 'issue_d', 'issue_date'\n",
    "                      'sec_app_num_rev_accts','sec_app_chargeoff_within_12_mths','sec_app_collections_12_mths_ex_med',\n",
    "                       'addr_state','title','sub_grade', 'fund_ratio', 'emp_title', 'id']   \n",
    "                     \n"
   ]
  },
  {
   "cell_type": "code",
   "execution_count": 28,
   "metadata": {},
   "outputs": [],
   "source": [
    "temporal_vars_remove = ['last_credit_pull_d','last_fico_range_high','last_fico_range_low','total_pymnt',\n",
    "                        'total_pymnt_inv','recoveries','collection_recovery_fee','out_prncp','out_prncp_inv',\n",
    "                        'total_rec_prncp','total_rec_int','last_pymnt_d','last_pymnt_amnt','next_pymnt_d',\n",
    "                        'total_rec_late_fee','hardship_flag','hardship_amount',\n",
    "                        'orig_projected_additional_accrued_interest','hardship_payoff_balance_amount',\n",
    "                        'hardship_last_payment_amount','debt_settlement_flag','hardship_type','hardship_reason',\n",
    "                        'hardship_status','deferral_term','hardship_start_date','hardship_end_date','payment_plan_start_date',\n",
    "                        'hardship_length','hardship_dpd','hardship_loan_status','installment','pymnt_plan',\n",
    "                        'acc_now_delinq']\n"
   ]
  },
  {
   "cell_type": "code",
   "execution_count": null,
   "metadata": {},
   "outputs": [],
   "source": [
    "a_set = set(other_vars_remove)\n",
    "b_set = set(temporal_vars_remove)\n",
    "if (a_set & b_set):\n",
    "    print(a_set & b_set)\n",
    "else:\n",
    "    print(\"No common elements\") "
   ]
  },
  {
   "cell_type": "code",
   "execution_count": 29,
   "metadata": {},
   "outputs": [
    {
     "data": {
      "text/plain": [
       "83"
      ]
     },
     "execution_count": 29,
     "metadata": {},
     "output_type": "execute_result"
    }
   ],
   "source": [
    "#use Venn Diagram. Set function is not needed as there wont be any repeats in the lists, but used for completeness\n",
    "#In A but not in B or C + In B but not in C + C\n",
    "vars_dropped = list(set(drop_list) - set(other_vars_remove) - set(temporal_vars_remove)) + \\\n",
    "list(set(other_vars_remove) - set(temporal_vars_remove)) + temporal_vars_remove\n",
    "len(vars_dropped)"
   ]
  },
  {
   "cell_type": "code",
   "execution_count": 30,
   "metadata": {},
   "outputs": [
    {
     "data": {
      "text/plain": [
       "66"
      ]
     },
     "execution_count": 30,
     "metadata": {},
     "output_type": "execute_result"
    }
   ],
   "source": [
    "retained_variables = list(set(df.columns) - set(vars_dropped))\n",
    "len(retained_variables)"
   ]
  },
  {
   "cell_type": "code",
   "execution_count": 31,
   "metadata": {},
   "outputs": [
    {
     "name": "stdout",
     "output_type": "stream",
     "text": [
      "['term', 'total_bc_limit', 'mort_acc', 'num_rev_accts', 'num_il_tl', 'num_rev_tl_bal_gt_0', 'funded_amnt', 'num_actv_rev_tl', 'num_bc_sats', 'open_acc', 'emp_length', 'num_actv_bc_tl', 'num_bc_tl', 'verification_status', 'loan_amnt', 'loan_status', 'vintage', 'chargeoff_within_12_mths', 'delinq_amnt', 'num_accts_ever_120_pd', 'total_bal_ex_mort', 'collections_12_mths_ex_med', 'pub_rec_bankruptcies', 'num_tl_op_past_12m', 'num_tl_120dpd_2m', 'home_ownership', 'mo_sin_rcnt_rev_tl_op', 'total_acc', 'bc_util', 'mo_sin_old_il_acct', 'purpose', 'revol_bal', 'tot_coll_amt', 'mo_sin_rcnt_tl', 'loan_to_inc', 'mths_since_recent_inq', 'application_type', 'tot_cur_bal', 'avg_cur_bal', 'revol_util', 'pti', 'num_op_rev_tl', 'pct_tl_nvr_dlq', 'annual_inc', 'delinq_2yrs', 'acc_open_past_24mths', 'grade', 'bc_open_to_buy', 'initial_list_status', 'percent_bc_gt_75', 'int_rate', 'total_il_high_credit_limit', 'mo_sin_old_rev_tl_op', 'funded_amnt_inv', 'issue_date', 'num_sats', 'dti', 'tot_hi_cred_lim', 'num_tl_90g_dpd_24m', 'mths_since_recent_bc', 'pub_rec', 'num_tl_30dpd', 'inq_last_6mths', 'tax_liens', 'total_rev_hi_lim', 'credit_hist']\n"
     ]
    }
   ],
   "source": [
    "print(retained_variables)"
   ]
  },
  {
   "cell_type": "code",
   "execution_count": 32,
   "metadata": {},
   "outputs": [],
   "source": [
    "df_small = df.loc[:,retained_variables] #dataframe of retained variables. "
   ]
  },
  {
   "cell_type": "code",
   "execution_count": 106,
   "metadata": {},
   "outputs": [
    {
     "data": {
      "text/plain": [
       "Fully Paid                                             1497783\n",
       "Current                                                1031016\n",
       "Charged Off                                             362548\n",
       "Late (31-120 days)                                       16154\n",
       "In Grace Period                                          10028\n",
       "Late (16-30 days)                                         2719\n",
       "Issued                                                    2062\n",
       "Does not meet the credit policy. Status:Fully Paid        1988\n",
       "Does not meet the credit policy. Status:Charged Off        761\n",
       "Default                                                    433\n",
       "Name: loan_status, dtype: int64"
      ]
     },
     "execution_count": 106,
     "metadata": {},
     "output_type": "execute_result"
    }
   ],
   "source": [
    "#target variable is loan_status. Understand what values it takes and its corresponding counts\n",
    "loanData['loan_status'].value_counts()"
   ]
  },
  {
   "cell_type": "code",
   "execution_count": 33,
   "metadata": {},
   "outputs": [],
   "source": [
    "#new COflag\n",
    "keep_status = ['Charged Off', 'Fully Paid', 'Late (16-30 days)', 'Late (31-120 days)', 'Default', 'Current']\n"
   ]
  },
  {
   "cell_type": "code",
   "execution_count": 34,
   "metadata": {},
   "outputs": [],
   "source": [
    "df_small = df_small[df_small['loan_status'].isin(keep_status)]"
   ]
  },
  {
   "cell_type": "code",
   "execution_count": 35,
   "metadata": {},
   "outputs": [],
   "source": [
    "#create a chargeoff flag\n",
    "df_small['coFlag'] = 1\n",
    "df_small.loc[df_small['loan_status'].isin(['Fully Paid','Late (16-30 days)','Current']), 'coFlag'] = 0"
   ]
  },
  {
   "cell_type": "code",
   "execution_count": 36,
   "metadata": {},
   "outputs": [],
   "source": [
    "temp_means = (df_small._get_numeric_data().mean())"
   ]
  },
  {
   "cell_type": "code",
   "execution_count": 37,
   "metadata": {},
   "outputs": [],
   "source": [
    "df_small.drop(['loan_status'], axis = 1, inplace = True)"
   ]
  },
  {
   "cell_type": "code",
   "execution_count": 38,
   "metadata": {},
   "outputs": [],
   "source": [
    "#counting number of object type (categorical) and numeric and getting a list of those\n",
    "#Counter(df_refined.dtypes)\n",
    "num_cols = df_small._get_numeric_data().columns\n",
    "cat_cols = list(set(df_small.columns) - set(num_cols))"
   ]
  },
  {
   "cell_type": "code",
   "execution_count": 39,
   "metadata": {},
   "outputs": [
    {
     "data": {
      "text/plain": [
       "purpose                False\n",
       "initial_list_status    False\n",
       "issue_date             False\n",
       "emp_length             False\n",
       "application_type       False\n",
       "home_ownership         False\n",
       "verification_status    False\n",
       "grade                  False\n",
       "dtype: bool"
      ]
     },
     "execution_count": 39,
     "metadata": {},
     "output_type": "execute_result"
    }
   ],
   "source": [
    "df_small.loc[:, cat_cols].isna().any() #Cat cols dont have missing values."
   ]
  },
  {
   "cell_type": "code",
   "execution_count": 40,
   "metadata": {},
   "outputs": [],
   "source": [
    "df_num = df_small.loc[:, num_cols]"
   ]
  },
  {
   "cell_type": "code",
   "execution_count": 41,
   "metadata": {},
   "outputs": [
    {
     "data": {
      "text/plain": [
       "Index(['term', 'total_bc_limit', 'mort_acc', 'num_rev_accts', 'num_il_tl', 'num_rev_tl_bal_gt_0', 'funded_amnt', 'num_actv_rev_tl', 'num_bc_sats', 'open_acc', 'num_actv_bc_tl', 'num_bc_tl', 'loan_amnt', 'vintage', 'chargeoff_within_12_mths', 'delinq_amnt', 'num_accts_ever_120_pd', 'total_bal_ex_mort', 'collections_12_mths_ex_med', 'pub_rec_bankruptcies', 'num_tl_op_past_12m', 'num_tl_120dpd_2m', 'mo_sin_rcnt_rev_tl_op', 'total_acc', 'bc_util', 'mo_sin_old_il_acct', 'revol_bal', 'tot_coll_amt', 'mo_sin_rcnt_tl', 'loan_to_inc', 'mths_since_recent_inq', 'tot_cur_bal', 'avg_cur_bal', 'revol_util', 'pti', 'num_op_rev_tl', 'pct_tl_nvr_dlq', 'annual_inc', 'delinq_2yrs', 'acc_open_past_24mths', 'bc_open_to_buy', 'percent_bc_gt_75', 'int_rate', 'total_il_high_credit_limit', 'mo_sin_old_rev_tl_op', 'funded_amnt_inv', 'num_sats', 'dti', 'tot_hi_cred_lim', 'num_tl_90g_dpd_24m', 'mths_since_recent_bc', 'pub_rec', 'num_tl_30dpd', 'inq_last_6mths', 'tax_liens', 'total_rev_hi_lim', 'credit_hist',\n",
       "       'coFlag'],\n",
       "      dtype='object')"
      ]
     },
     "execution_count": 41,
     "metadata": {},
     "output_type": "execute_result"
    }
   ],
   "source": [
    "num_cols"
   ]
  },
  {
   "cell_type": "code",
   "execution_count": 42,
   "metadata": {},
   "outputs": [
    {
     "data": {
      "text/plain": [
       "['purpose',\n",
       " 'initial_list_status',\n",
       " 'issue_date',\n",
       " 'emp_length',\n",
       " 'application_type',\n",
       " 'home_ownership',\n",
       " 'verification_status',\n",
       " 'grade']"
      ]
     },
     "execution_count": 42,
     "metadata": {},
     "output_type": "execute_result"
    }
   ],
   "source": [
    "cat_cols"
   ]
  },
  {
   "cell_type": "code",
   "execution_count": null,
   "metadata": {},
   "outputs": [],
   "source": [
    "df_small['emp_length'].dtype"
   ]
  },
  {
   "cell_type": "code",
   "execution_count": 43,
   "metadata": {},
   "outputs": [],
   "source": [
    "for var in num_cols:\n",
    "    df_num[var].fillna(temp_means[var], inplace = True)   "
   ]
  },
  {
   "cell_type": "code",
   "execution_count": 44,
   "metadata": {},
   "outputs": [
    {
     "data": {
      "text/plain": [
       "term                          False\n",
       "total_bc_limit                False\n",
       "mort_acc                      False\n",
       "num_rev_accts                 False\n",
       "num_il_tl                     False\n",
       "num_rev_tl_bal_gt_0           False\n",
       "funded_amnt                   False\n",
       "num_actv_rev_tl               False\n",
       "num_bc_sats                   False\n",
       "open_acc                      False\n",
       "num_actv_bc_tl                False\n",
       "num_bc_tl                     False\n",
       "loan_amnt                     False\n",
       "vintage                       False\n",
       "chargeoff_within_12_mths      False\n",
       "delinq_amnt                   False\n",
       "num_accts_ever_120_pd         False\n",
       "total_bal_ex_mort             False\n",
       "collections_12_mths_ex_med    False\n",
       "pub_rec_bankruptcies          False\n",
       "num_tl_op_past_12m            False\n",
       "num_tl_120dpd_2m              False\n",
       "mo_sin_rcnt_rev_tl_op         False\n",
       "total_acc                     False\n",
       "bc_util                       False\n",
       "mo_sin_old_il_acct            False\n",
       "revol_bal                     False\n",
       "tot_coll_amt                  False\n",
       "mo_sin_rcnt_tl                False\n",
       "loan_to_inc                   False\n",
       "mths_since_recent_inq         False\n",
       "tot_cur_bal                   False\n",
       "avg_cur_bal                   False\n",
       "revol_util                    False\n",
       "pti                           False\n",
       "num_op_rev_tl                 False\n",
       "pct_tl_nvr_dlq                False\n",
       "annual_inc                    False\n",
       "delinq_2yrs                   False\n",
       "acc_open_past_24mths          False\n",
       "bc_open_to_buy                False\n",
       "percent_bc_gt_75              False\n",
       "int_rate                      False\n",
       "total_il_high_credit_limit    False\n",
       "mo_sin_old_rev_tl_op          False\n",
       "funded_amnt_inv               False\n",
       "num_sats                      False\n",
       "dti                           False\n",
       "tot_hi_cred_lim               False\n",
       "num_tl_90g_dpd_24m            False\n",
       "mths_since_recent_bc          False\n",
       "pub_rec                       False\n",
       "num_tl_30dpd                  False\n",
       "inq_last_6mths                False\n",
       "tax_liens                     False\n",
       "total_rev_hi_lim              False\n",
       "credit_hist                   False\n",
       "coFlag                        False\n",
       "dtype: bool"
      ]
     },
     "execution_count": 44,
     "metadata": {},
     "output_type": "execute_result"
    }
   ],
   "source": [
    "df_num.isna().any()"
   ]
  },
  {
   "cell_type": "code",
   "execution_count": 45,
   "metadata": {},
   "outputs": [],
   "source": [
    "df_cat = df_small.loc[:, cat_cols]"
   ]
  },
  {
   "cell_type": "code",
   "execution_count": 46,
   "metadata": {},
   "outputs": [],
   "source": [
    "#making Purpose into a 3 category variable. \n",
    "main_purpose = ['home_improvement', 'other', 'major_purchase' , 'small_business', 'car', 'medical', \\\n",
    "               'moving', 'vacation', 'house', 'wedding', 'renewable_energy', 'educational']\n",
    "\n",
    "df_cat['new_purpose'] = df_cat['purpose']\n",
    "\n",
    "\n",
    "df_cat.loc[df_cat['purpose'].isin(main_purpose), 'new_purpose'] = 'other'\n"
   ]
  },
  {
   "cell_type": "code",
   "execution_count": 47,
   "metadata": {},
   "outputs": [],
   "source": [
    "#making home_ownership into a 3 category variable. \n",
    "main_purpose = ['ANY', 'NONE', 'OTHER' , 'OWN']\n",
    "\n",
    "df_cat['cat_home_ownership'] = df_cat['home_ownership']\n",
    "\n",
    "\n",
    "df_cat.loc[df_cat['home_ownership'].isin(main_purpose), 'cat_home_ownership'] = 'OTHER'"
   ]
  },
  {
   "cell_type": "code",
   "execution_count": 48,
   "metadata": {},
   "outputs": [],
   "source": [
    "df_cat.drop(['home_ownership', 'purpose'], axis = 1, inplace = True)"
   ]
  },
  {
   "cell_type": "code",
   "execution_count": 49,
   "metadata": {},
   "outputs": [
    {
     "data": {
      "text/plain": [
       "Index(['initial_list_status', 'issue_date', 'emp_length', 'application_type', 'verification_status', 'grade', 'new_purpose', 'cat_home_ownership'], dtype='object')"
      ]
     },
     "execution_count": 49,
     "metadata": {},
     "output_type": "execute_result"
    }
   ],
   "source": [
    "df_cat.columns"
   ]
  },
  {
   "cell_type": "code",
   "execution_count": 68,
   "metadata": {},
   "outputs": [],
   "source": [
    "df_tempterm = df_num.pop('term')"
   ]
  },
  {
   "cell_type": "code",
   "execution_count": 70,
   "metadata": {},
   "outputs": [],
   "source": [
    "df_cat_full = pd.concat([df_cat, df_tempterm], axis = 1)"
   ]
  },
  {
   "cell_type": "code",
   "execution_count": 84,
   "metadata": {},
   "outputs": [],
   "source": [
    "df_cat_dummy = pd.get_dummies(df_cat_full, columns = ['application_type', 'verification_status', 'grade', \n",
    "                                                'initial_list_status', 'emp_length', 'new_purpose', \n",
    "                                                'cat_home_ownership', 'term'], drop_first = True)"
   ]
  },
  {
   "cell_type": "code",
   "execution_count": 73,
   "metadata": {},
   "outputs": [],
   "source": [
    "df_Y = df_num.pop('coFlag')"
   ]
  },
  {
   "cell_type": "code",
   "execution_count": 95,
   "metadata": {},
   "outputs": [],
   "source": [
    "sc = StandardScaler()\n",
    "X_num_std = sc.fit_transform(df_num)"
   ]
  },
  {
   "cell_type": "code",
   "execution_count": 96,
   "metadata": {},
   "outputs": [],
   "source": [
    "X_num_std = pd.DataFrame(X_num_std, columns = df_num.columns)"
   ]
  },
  {
   "cell_type": "code",
   "execution_count": 97,
   "metadata": {},
   "outputs": [
    {
     "data": {
      "text/html": [
       "<div>\n",
       "<style scoped>\n",
       "    .dataframe tbody tr th:only-of-type {\n",
       "        vertical-align: middle;\n",
       "    }\n",
       "\n",
       "    .dataframe tbody tr th {\n",
       "        vertical-align: top;\n",
       "    }\n",
       "\n",
       "    .dataframe thead th {\n",
       "        text-align: right;\n",
       "    }\n",
       "</style>\n",
       "<table border=\"1\" class=\"dataframe\">\n",
       "  <thead>\n",
       "    <tr style=\"text-align: right;\">\n",
       "      <th></th>\n",
       "      <th>total_bc_limit</th>\n",
       "      <th>mort_acc</th>\n",
       "      <th>num_rev_accts</th>\n",
       "      <th>num_il_tl</th>\n",
       "      <th>num_rev_tl_bal_gt_0</th>\n",
       "      <th>funded_amnt</th>\n",
       "      <th>num_actv_rev_tl</th>\n",
       "      <th>num_bc_sats</th>\n",
       "      <th>open_acc</th>\n",
       "      <th>num_actv_bc_tl</th>\n",
       "      <th>num_bc_tl</th>\n",
       "      <th>loan_amnt</th>\n",
       "      <th>vintage</th>\n",
       "      <th>chargeoff_within_12_mths</th>\n",
       "      <th>delinq_amnt</th>\n",
       "      <th>num_accts_ever_120_pd</th>\n",
       "      <th>total_bal_ex_mort</th>\n",
       "      <th>collections_12_mths_ex_med</th>\n",
       "      <th>pub_rec_bankruptcies</th>\n",
       "      <th>num_tl_op_past_12m</th>\n",
       "      <th>num_tl_120dpd_2m</th>\n",
       "      <th>mo_sin_rcnt_rev_tl_op</th>\n",
       "      <th>total_acc</th>\n",
       "      <th>bc_util</th>\n",
       "      <th>mo_sin_old_il_acct</th>\n",
       "      <th>revol_bal</th>\n",
       "      <th>tot_coll_amt</th>\n",
       "      <th>mo_sin_rcnt_tl</th>\n",
       "      <th>loan_to_inc</th>\n",
       "      <th>mths_since_recent_inq</th>\n",
       "      <th>tot_cur_bal</th>\n",
       "      <th>avg_cur_bal</th>\n",
       "      <th>revol_util</th>\n",
       "      <th>pti</th>\n",
       "      <th>num_op_rev_tl</th>\n",
       "      <th>pct_tl_nvr_dlq</th>\n",
       "      <th>annual_inc</th>\n",
       "      <th>delinq_2yrs</th>\n",
       "      <th>acc_open_past_24mths</th>\n",
       "      <th>bc_open_to_buy</th>\n",
       "      <th>percent_bc_gt_75</th>\n",
       "      <th>int_rate</th>\n",
       "      <th>total_il_high_credit_limit</th>\n",
       "      <th>mo_sin_old_rev_tl_op</th>\n",
       "      <th>funded_amnt_inv</th>\n",
       "      <th>num_sats</th>\n",
       "      <th>dti</th>\n",
       "      <th>tot_hi_cred_lim</th>\n",
       "      <th>num_tl_90g_dpd_24m</th>\n",
       "      <th>mths_since_recent_bc</th>\n",
       "      <th>pub_rec</th>\n",
       "      <th>num_tl_30dpd</th>\n",
       "      <th>inq_last_6mths</th>\n",
       "      <th>tax_liens</th>\n",
       "      <th>total_rev_hi_lim</th>\n",
       "      <th>credit_hist</th>\n",
       "    </tr>\n",
       "  </thead>\n",
       "  <tbody>\n",
       "    <tr>\n",
       "      <th>0</th>\n",
       "      <td>0.0</td>\n",
       "      <td>0.0</td>\n",
       "      <td>-2.239837e-16</td>\n",
       "      <td>0.0</td>\n",
       "      <td>0.0</td>\n",
       "      <td>-1.092630</td>\n",
       "      <td>0.0</td>\n",
       "      <td>2.891406e-16</td>\n",
       "      <td>-1.513753</td>\n",
       "      <td>0.0</td>\n",
       "      <td>-1.921033e-16</td>\n",
       "      <td>-1.092893</td>\n",
       "      <td>-2.664308</td>\n",
       "      <td>-0.078562</td>\n",
       "      <td>-0.015306</td>\n",
       "      <td>0.0</td>\n",
       "      <td>0.0</td>\n",
       "      <td>-0.119681</td>\n",
       "      <td>-0.347524</td>\n",
       "      <td>0.0</td>\n",
       "      <td>-1.874283e-17</td>\n",
       "      <td>0.0</td>\n",
       "      <td>-1.244275</td>\n",
       "      <td>2.579626e-13</td>\n",
       "      <td>-8.050326e-16</td>\n",
       "      <td>-0.144175</td>\n",
       "      <td>-3.828233e-18</td>\n",
       "      <td>0.0</td>\n",
       "      <td>-0.112485</td>\n",
       "      <td>4.765279e-16</td>\n",
       "      <td>0.0</td>\n",
       "      <td>3.305883e-16</td>\n",
       "      <td>1.395111</td>\n",
       "      <td>-0.011398</td>\n",
       "      <td>-3.775469e-16</td>\n",
       "      <td>-2.695116e-12</td>\n",
       "      <td>-0.500548</td>\n",
       "      <td>-0.343262</td>\n",
       "      <td>0.0</td>\n",
       "      <td>1.963405e-15</td>\n",
       "      <td>-3.390601e-13</td>\n",
       "      <td>-0.491383</td>\n",
       "      <td>0.0</td>\n",
       "      <td>0.0</td>\n",
       "      <td>-1.093781</td>\n",
       "      <td>0.0</td>\n",
       "      <td>0.532104</td>\n",
       "      <td>0.0</td>\n",
       "      <td>0.0</td>\n",
       "      <td>1.104130e-16</td>\n",
       "      <td>-0.336259</td>\n",
       "      <td>0.0</td>\n",
       "      <td>0.529286</td>\n",
       "      <td>-0.108839</td>\n",
       "      <td>0.0</td>\n",
       "      <td>1.366853</td>\n",
       "    </tr>\n",
       "    <tr>\n",
       "      <th>1</th>\n",
       "      <td>0.0</td>\n",
       "      <td>0.0</td>\n",
       "      <td>-2.239837e-16</td>\n",
       "      <td>0.0</td>\n",
       "      <td>0.0</td>\n",
       "      <td>-1.356508</td>\n",
       "      <td>0.0</td>\n",
       "      <td>2.891406e-16</td>\n",
       "      <td>-1.513753</td>\n",
       "      <td>0.0</td>\n",
       "      <td>-1.921033e-16</td>\n",
       "      <td>-1.356735</td>\n",
       "      <td>-2.664308</td>\n",
       "      <td>-0.078562</td>\n",
       "      <td>-0.015306</td>\n",
       "      <td>0.0</td>\n",
       "      <td>0.0</td>\n",
       "      <td>-0.119681</td>\n",
       "      <td>-0.347524</td>\n",
       "      <td>0.0</td>\n",
       "      <td>-1.874283e-17</td>\n",
       "      <td>0.0</td>\n",
       "      <td>-1.658419</td>\n",
       "      <td>2.579626e-13</td>\n",
       "      <td>-8.050326e-16</td>\n",
       "      <td>-0.666019</td>\n",
       "      <td>-3.828233e-18</td>\n",
       "      <td>0.0</td>\n",
       "      <td>-0.768896</td>\n",
       "      <td>4.765279e-16</td>\n",
       "      <td>0.0</td>\n",
       "      <td>3.305883e-16</td>\n",
       "      <td>-1.590792</td>\n",
       "      <td>-0.871982</td>\n",
       "      <td>-3.775469e-16</td>\n",
       "      <td>-2.695116e-12</td>\n",
       "      <td>-0.446851</td>\n",
       "      <td>-0.343262</td>\n",
       "      <td>0.0</td>\n",
       "      <td>1.963405e-15</td>\n",
       "      <td>-3.390601e-13</td>\n",
       "      <td>0.459225</td>\n",
       "      <td>0.0</td>\n",
       "      <td>0.0</td>\n",
       "      <td>-1.354976</td>\n",
       "      <td>0.0</td>\n",
       "      <td>-1.165224</td>\n",
       "      <td>0.0</td>\n",
       "      <td>0.0</td>\n",
       "      <td>1.104130e-16</td>\n",
       "      <td>-0.336259</td>\n",
       "      <td>0.0</td>\n",
       "      <td>5.244637</td>\n",
       "      <td>-0.108839</td>\n",
       "      <td>0.0</td>\n",
       "      <td>-0.478044</td>\n",
       "    </tr>\n",
       "    <tr>\n",
       "      <th>2</th>\n",
       "      <td>0.0</td>\n",
       "      <td>0.0</td>\n",
       "      <td>-2.239837e-16</td>\n",
       "      <td>0.0</td>\n",
       "      <td>0.0</td>\n",
       "      <td>-1.367063</td>\n",
       "      <td>0.0</td>\n",
       "      <td>2.891406e-16</td>\n",
       "      <td>-1.688209</td>\n",
       "      <td>0.0</td>\n",
       "      <td>-1.921033e-16</td>\n",
       "      <td>-1.367289</td>\n",
       "      <td>-2.664308</td>\n",
       "      <td>-0.078562</td>\n",
       "      <td>-0.015306</td>\n",
       "      <td>0.0</td>\n",
       "      <td>0.0</td>\n",
       "      <td>-0.119681</td>\n",
       "      <td>-0.347524</td>\n",
       "      <td>0.0</td>\n",
       "      <td>-1.874283e-17</td>\n",
       "      <td>0.0</td>\n",
       "      <td>-1.161447</td>\n",
       "      <td>2.579626e-13</td>\n",
       "      <td>-8.050326e-16</td>\n",
       "      <td>-0.610654</td>\n",
       "      <td>-3.828233e-18</td>\n",
       "      <td>0.0</td>\n",
       "      <td>-0.177848</td>\n",
       "      <td>4.765279e-16</td>\n",
       "      <td>0.0</td>\n",
       "      <td>3.305883e-16</td>\n",
       "      <td>1.989881</td>\n",
       "      <td>0.005969</td>\n",
       "      <td>-3.775469e-16</td>\n",
       "      <td>-2.695116e-12</td>\n",
       "      <td>-0.605688</td>\n",
       "      <td>-0.343262</td>\n",
       "      <td>0.0</td>\n",
       "      <td>1.963405e-15</td>\n",
       "      <td>-3.390601e-13</td>\n",
       "      <td>0.601199</td>\n",
       "      <td>0.0</td>\n",
       "      <td>0.0</td>\n",
       "      <td>-1.365529</td>\n",
       "      <td>0.0</td>\n",
       "      <td>-0.673541</td>\n",
       "      <td>0.0</td>\n",
       "      <td>0.0</td>\n",
       "      <td>1.104130e-16</td>\n",
       "      <td>-0.336259</td>\n",
       "      <td>0.0</td>\n",
       "      <td>1.708124</td>\n",
       "      <td>-0.108839</td>\n",
       "      <td>0.0</td>\n",
       "      <td>-0.812498</td>\n",
       "    </tr>\n",
       "    <tr>\n",
       "      <th>3</th>\n",
       "      <td>0.0</td>\n",
       "      <td>0.0</td>\n",
       "      <td>-2.239837e-16</td>\n",
       "      <td>0.0</td>\n",
       "      <td>0.0</td>\n",
       "      <td>-0.564872</td>\n",
       "      <td>0.0</td>\n",
       "      <td>2.891406e-16</td>\n",
       "      <td>-0.292562</td>\n",
       "      <td>0.0</td>\n",
       "      <td>-1.921033e-16</td>\n",
       "      <td>-0.565207</td>\n",
       "      <td>-2.664308</td>\n",
       "      <td>-0.078562</td>\n",
       "      <td>-0.015306</td>\n",
       "      <td>0.0</td>\n",
       "      <td>0.0</td>\n",
       "      <td>-0.119681</td>\n",
       "      <td>-0.347524</td>\n",
       "      <td>0.0</td>\n",
       "      <td>-1.874283e-17</td>\n",
       "      <td>0.0</td>\n",
       "      <td>1.074930</td>\n",
       "      <td>2.579626e-13</td>\n",
       "      <td>-8.050326e-16</td>\n",
       "      <td>-0.495387</td>\n",
       "      <td>-3.828233e-18</td>\n",
       "      <td>0.0</td>\n",
       "      <td>-0.139168</td>\n",
       "      <td>4.765279e-16</td>\n",
       "      <td>0.0</td>\n",
       "      <td>3.305883e-16</td>\n",
       "      <td>-1.124621</td>\n",
       "      <td>0.008409</td>\n",
       "      <td>-3.775469e-16</td>\n",
       "      <td>-2.695116e-12</td>\n",
       "      <td>-0.275019</td>\n",
       "      <td>-0.343262</td>\n",
       "      <td>0.0</td>\n",
       "      <td>1.963405e-15</td>\n",
       "      <td>-3.390601e-13</td>\n",
       "      <td>0.092973</td>\n",
       "      <td>0.0</td>\n",
       "      <td>0.0</td>\n",
       "      <td>-0.563478</td>\n",
       "      <td>0.0</td>\n",
       "      <td>0.044878</td>\n",
       "      <td>0.0</td>\n",
       "      <td>0.0</td>\n",
       "      <td>1.104130e-16</td>\n",
       "      <td>-0.336259</td>\n",
       "      <td>0.0</td>\n",
       "      <td>0.529286</td>\n",
       "      <td>-0.108839</td>\n",
       "      <td>0.0</td>\n",
       "      <td>-0.068067</td>\n",
       "    </tr>\n",
       "    <tr>\n",
       "      <th>4</th>\n",
       "      <td>0.0</td>\n",
       "      <td>0.0</td>\n",
       "      <td>-2.239837e-16</td>\n",
       "      <td>0.0</td>\n",
       "      <td>0.0</td>\n",
       "      <td>-1.303732</td>\n",
       "      <td>0.0</td>\n",
       "      <td>2.891406e-16</td>\n",
       "      <td>0.579717</td>\n",
       "      <td>0.0</td>\n",
       "      <td>-1.921033e-16</td>\n",
       "      <td>-1.303967</td>\n",
       "      <td>-2.664308</td>\n",
       "      <td>-0.078562</td>\n",
       "      <td>-0.015306</td>\n",
       "      <td>0.0</td>\n",
       "      <td>0.0</td>\n",
       "      <td>-0.119681</td>\n",
       "      <td>-0.347524</td>\n",
       "      <td>0.0</td>\n",
       "      <td>-1.874283e-17</td>\n",
       "      <td>0.0</td>\n",
       "      <td>1.157759</td>\n",
       "      <td>2.579626e-13</td>\n",
       "      <td>-8.050326e-16</td>\n",
       "      <td>0.472518</td>\n",
       "      <td>-3.828233e-18</td>\n",
       "      <td>0.0</td>\n",
       "      <td>-1.009580</td>\n",
       "      <td>4.765279e-16</td>\n",
       "      <td>0.0</td>\n",
       "      <td>3.305883e-16</td>\n",
       "      <td>0.197535</td>\n",
       "      <td>-1.077965</td>\n",
       "      <td>-3.775469e-16</td>\n",
       "      <td>-2.695116e-12</td>\n",
       "      <td>0.000627</td>\n",
       "      <td>-0.343262</td>\n",
       "      <td>0.0</td>\n",
       "      <td>1.963405e-15</td>\n",
       "      <td>-3.390601e-13</td>\n",
       "      <td>-0.071634</td>\n",
       "      <td>0.0</td>\n",
       "      <td>0.0</td>\n",
       "      <td>-1.302209</td>\n",
       "      <td>0.0</td>\n",
       "      <td>-0.086323</td>\n",
       "      <td>0.0</td>\n",
       "      <td>0.0</td>\n",
       "      <td>1.104130e-16</td>\n",
       "      <td>-0.336259</td>\n",
       "      <td>0.0</td>\n",
       "      <td>-0.649552</td>\n",
       "      <td>-0.108839</td>\n",
       "      <td>0.0</td>\n",
       "      <td>-0.057278</td>\n",
       "    </tr>\n",
       "  </tbody>\n",
       "</table>\n",
       "</div>"
      ],
      "text/plain": [
       "   total_bc_limit  mort_acc  num_rev_accts  num_il_tl  num_rev_tl_bal_gt_0  funded_amnt  num_actv_rev_tl   num_bc_sats  open_acc  num_actv_bc_tl     num_bc_tl  loan_amnt   vintage  chargeoff_within_12_mths  delinq_amnt  num_accts_ever_120_pd  total_bal_ex_mort  collections_12_mths_ex_med  pub_rec_bankruptcies  num_tl_op_past_12m  num_tl_120dpd_2m  mo_sin_rcnt_rev_tl_op  total_acc       bc_util  mo_sin_old_il_acct  revol_bal  tot_coll_amt  mo_sin_rcnt_tl  loan_to_inc  mths_since_recent_inq  tot_cur_bal   avg_cur_bal  revol_util       pti  num_op_rev_tl  pct_tl_nvr_dlq  annual_inc  delinq_2yrs  acc_open_past_24mths  bc_open_to_buy  percent_bc_gt_75  int_rate  total_il_high_credit_limit  mo_sin_old_rev_tl_op  funded_amnt_inv  num_sats       dti  tot_hi_cred_lim  num_tl_90g_dpd_24m  mths_since_recent_bc   pub_rec  num_tl_30dpd  inq_last_6mths  tax_liens  total_rev_hi_lim  credit_hist\n",
       "0             0.0       0.0  -2.239837e-16        0.0                  0.0    -1.092630              0.0  2.891406e-16 -1.513753             0.0 -1.921033e-16  -1.092893 -2.664308                 -0.078562    -0.015306                    0.0                0.0                   -0.119681             -0.347524                 0.0     -1.874283e-17                    0.0  -1.244275  2.579626e-13       -8.050326e-16  -0.144175 -3.828233e-18             0.0    -0.112485           4.765279e-16          0.0  3.305883e-16    1.395111 -0.011398  -3.775469e-16   -2.695116e-12   -0.500548    -0.343262                   0.0    1.963405e-15     -3.390601e-13 -0.491383                         0.0                   0.0        -1.093781       0.0  0.532104              0.0                 0.0          1.104130e-16 -0.336259           0.0        0.529286  -0.108839               0.0     1.366853\n",
       "1             0.0       0.0  -2.239837e-16        0.0                  0.0    -1.356508              0.0  2.891406e-16 -1.513753             0.0 -1.921033e-16  -1.356735 -2.664308                 -0.078562    -0.015306                    0.0                0.0                   -0.119681             -0.347524                 0.0     -1.874283e-17                    0.0  -1.658419  2.579626e-13       -8.050326e-16  -0.666019 -3.828233e-18             0.0    -0.768896           4.765279e-16          0.0  3.305883e-16   -1.590792 -0.871982  -3.775469e-16   -2.695116e-12   -0.446851    -0.343262                   0.0    1.963405e-15     -3.390601e-13  0.459225                         0.0                   0.0        -1.354976       0.0 -1.165224              0.0                 0.0          1.104130e-16 -0.336259           0.0        5.244637  -0.108839               0.0    -0.478044\n",
       "2             0.0       0.0  -2.239837e-16        0.0                  0.0    -1.367063              0.0  2.891406e-16 -1.688209             0.0 -1.921033e-16  -1.367289 -2.664308                 -0.078562    -0.015306                    0.0                0.0                   -0.119681             -0.347524                 0.0     -1.874283e-17                    0.0  -1.161447  2.579626e-13       -8.050326e-16  -0.610654 -3.828233e-18             0.0    -0.177848           4.765279e-16          0.0  3.305883e-16    1.989881  0.005969  -3.775469e-16   -2.695116e-12   -0.605688    -0.343262                   0.0    1.963405e-15     -3.390601e-13  0.601199                         0.0                   0.0        -1.365529       0.0 -0.673541              0.0                 0.0          1.104130e-16 -0.336259           0.0        1.708124  -0.108839               0.0    -0.812498\n",
       "3             0.0       0.0  -2.239837e-16        0.0                  0.0    -0.564872              0.0  2.891406e-16 -0.292562             0.0 -1.921033e-16  -0.565207 -2.664308                 -0.078562    -0.015306                    0.0                0.0                   -0.119681             -0.347524                 0.0     -1.874283e-17                    0.0   1.074930  2.579626e-13       -8.050326e-16  -0.495387 -3.828233e-18             0.0    -0.139168           4.765279e-16          0.0  3.305883e-16   -1.124621  0.008409  -3.775469e-16   -2.695116e-12   -0.275019    -0.343262                   0.0    1.963405e-15     -3.390601e-13  0.092973                         0.0                   0.0        -0.563478       0.0  0.044878              0.0                 0.0          1.104130e-16 -0.336259           0.0        0.529286  -0.108839               0.0    -0.068067\n",
       "4             0.0       0.0  -2.239837e-16        0.0                  0.0    -1.303732              0.0  2.891406e-16  0.579717             0.0 -1.921033e-16  -1.303967 -2.664308                 -0.078562    -0.015306                    0.0                0.0                   -0.119681             -0.347524                 0.0     -1.874283e-17                    0.0   1.157759  2.579626e-13       -8.050326e-16   0.472518 -3.828233e-18             0.0    -1.009580           4.765279e-16          0.0  3.305883e-16    0.197535 -1.077965  -3.775469e-16   -2.695116e-12    0.000627    -0.343262                   0.0    1.963405e-15     -3.390601e-13 -0.071634                         0.0                   0.0        -1.302209       0.0 -0.086323              0.0                 0.0          1.104130e-16 -0.336259           0.0       -0.649552  -0.108839               0.0    -0.057278"
      ]
     },
     "execution_count": 97,
     "metadata": {},
     "output_type": "execute_result"
    }
   ],
   "source": [
    "X_num_std.head()"
   ]
  },
  {
   "cell_type": "code",
   "execution_count": 98,
   "metadata": {},
   "outputs": [],
   "source": [
    "X_num_std.reset_index(inplace=True, drop=True)"
   ]
  },
  {
   "cell_type": "code",
   "execution_count": 100,
   "metadata": {},
   "outputs": [],
   "source": [
    "df_Y.reset_index(inplace=True, drop=True)"
   ]
  },
  {
   "cell_type": "code",
   "execution_count": 101,
   "metadata": {},
   "outputs": [],
   "source": [
    "df_cat_dummy.reset_index(inplace=True, drop=True)"
   ]
  },
  {
   "cell_type": "code",
   "execution_count": 102,
   "metadata": {},
   "outputs": [],
   "source": [
    "df_model = pd.concat([df_Y, df_cat_dummy,X_num_std], axis = 1)"
   ]
  },
  {
   "cell_type": "code",
   "execution_count": 104,
   "metadata": {},
   "outputs": [
    {
     "data": {
      "text/plain": [
       "(2910653, 83)"
      ]
     },
     "execution_count": 104,
     "metadata": {},
     "output_type": "execute_result"
    }
   ],
   "source": [
    "df_model.shape"
   ]
  },
  {
   "cell_type": "code",
   "execution_count": 109,
   "metadata": {},
   "outputs": [],
   "source": [
    "df_test_train = df_model[df_model.issue_date <= '2019-09-01']\n",
    "holdOut = df_model[df_model.issue_date > '2019-09-01'] #Out of time holdout\n",
    "trainSet, testSet = train_test_split(df_test_train, test_size = 0.3, random_state=693) #test and train splits"
   ]
  },
  {
   "cell_type": "code",
   "execution_count": 110,
   "metadata": {},
   "outputs": [
    {
     "name": "stderr",
     "output_type": "stream",
     "text": [
      "/anaconda3/lib/python3.6/site-packages/pandas/core/frame.py:3940: SettingWithCopyWarning: \n",
      "A value is trying to be set on a copy of a slice from a DataFrame\n",
      "\n",
      "See the caveats in the documentation: http://pandas.pydata.org/pandas-docs/stable/indexing.html#indexing-view-versus-copy\n",
      "  errors=errors)\n"
     ]
    }
   ],
   "source": [
    "trainSet.drop(['issue_date'], axis = 1, inplace = True)\n",
    "testSet.drop(['issue_date'], axis = 1, inplace = True)\n",
    "holdOut.drop(['issue_date'], axis = 1, inplace = True)"
   ]
  },
  {
   "cell_type": "code",
   "execution_count": 111,
   "metadata": {},
   "outputs": [],
   "source": [
    "df_Ytrain = trainSet.pop('coFlag')"
   ]
  },
  {
   "cell_type": "code",
   "execution_count": 112,
   "metadata": {},
   "outputs": [],
   "source": [
    "df_Ytest = testSet.pop('coFlag')"
   ]
  },
  {
   "cell_type": "code",
   "execution_count": 113,
   "metadata": {},
   "outputs": [],
   "source": [
    "df_YHO = holdOut.pop('coFlag')"
   ]
  },
  {
   "cell_type": "code",
   "execution_count": 114,
   "metadata": {},
   "outputs": [],
   "source": [
    "df_Ytrain = df_Ytrain.to_frame()"
   ]
  },
  {
   "cell_type": "code",
   "execution_count": 115,
   "metadata": {},
   "outputs": [
    {
     "data": {
      "text/plain": [
       "0    1583739\n",
       "1     263761\n",
       "Name: coFlag, dtype: int64"
      ]
     },
     "execution_count": 115,
     "metadata": {},
     "output_type": "execute_result"
    }
   ],
   "source": [
    "df_Ytrain['coFlag'].value_counts()"
   ]
  },
  {
   "cell_type": "code",
   "execution_count": 65,
   "metadata": {},
   "outputs": [
    {
     "data": {
      "text/plain": [
       "0.14276644113667117"
      ]
     },
     "execution_count": 65,
     "metadata": {},
     "output_type": "execute_result"
    }
   ],
   "source": [
    "263761/(263761 + 1583739)"
   ]
  },
  {
   "cell_type": "code",
   "execution_count": null,
   "metadata": {},
   "outputs": [],
   "source": []
  },
  {
   "cell_type": "code",
   "execution_count": null,
   "metadata": {},
   "outputs": [],
   "source": []
  },
  {
   "cell_type": "code",
   "execution_count": null,
   "metadata": {},
   "outputs": [],
   "source": []
  },
  {
   "cell_type": "code",
   "execution_count": null,
   "metadata": {},
   "outputs": [],
   "source": []
  },
  {
   "cell_type": "code",
   "execution_count": null,
   "metadata": {},
   "outputs": [],
   "source": []
  },
  {
   "cell_type": "code",
   "execution_count": null,
   "metadata": {},
   "outputs": [],
   "source": []
  },
  {
   "cell_type": "code",
   "execution_count": 131,
   "metadata": {},
   "outputs": [
    {
     "name": "stderr",
     "output_type": "stream",
     "text": [
      "/Users/vibhor/.local/lib/python3.6/site-packages/sklearn/utils/validation.py:63: DataConversionWarning: A column-vector y was passed when a 1d array was expected. Please change the shape of y to (n_samples, ), for example using ravel().\n",
      "  return f(*args, **kwargs)\n",
      "/Users/vibhor/.local/lib/python3.6/site-packages/sklearn/linear_model/_sag.py:329: ConvergenceWarning: The max_iter was reached which means the coef_ did not converge\n",
      "  \"the coef_ did not converge\", ConvergenceWarning)\n"
     ]
    },
    {
     "name": "stdout",
     "output_type": "stream",
     "text": [
      "C: 0.001\n",
      "Coefficient of each feature: [[-0.03018499  0.05804349  0.07459951  0.          0.12858004  0.00679539\n",
      "   0.          0.          0.          0.004286    0.          0.\n",
      "   0.          0.          0.          0.          0.          0.\n",
      "   0.          0.          0.          0.          0.          0.10927244\n",
      "   0.13208782 -0.10297698 -0.0569874   0.         -0.00832662  0.\n",
      "   0.03227644  0.04111853  0.03190083  0.          0.00291764  0.\n",
      "   0.02541489 -0.30246402  0.          0.00198246  0.          0.\n",
      "   0.01504289  0.          0.          0.         -0.00616099 -0.00192497\n",
      "   0.         -0.02132433  0.          0.         -0.01083794  0.04353352\n",
      "  -0.05696277  0.         -0.00054252  0.          0.02294894  0.\n",
      "   0.         -0.0172201   0.04475483  0.18757451 -0.01475741  0.0381365\n",
      "   0.45505312 -0.00337724 -0.00734986  0.0354425  -0.0349243   0.01559483\n",
      "  -0.11843698  0.         -0.04022858  0.03823153  0.00107455  0.02535893\n",
      "   0.          0.          0.00453615]]\n",
      "Training accuracy: 0.6447047361299053\n",
      "Test accuracy: 0.6439606156208875\n",
      "\n"
     ]
    }
   ],
   "source": [
    "c = [10, 1, .1, 0.01, .001]\n",
    "clf = LogisticRegression(penalty='l1',  C = c[4], class_weight = {0: .1427, 1: 0.8573}, solver='saga')\n",
    "clf.fit(trainSet, df_Ytrain)\n",
    "print('C:', c[4])\n",
    "print('Coefficient of each feature:', clf.coef_)\n",
    "print('Training accuracy:', clf.score(trainSet, df_Ytrain))\n",
    "print('Test accuracy:', clf.score(testSet, df_Ytest))\n",
    "print('')"
   ]
  },
  {
   "cell_type": "code",
   "execution_count": 132,
   "metadata": {},
   "outputs": [],
   "source": [
    "importance = np.abs(clf.coef_)"
   ]
  },
  {
   "cell_type": "code",
   "execution_count": 134,
   "metadata": {},
   "outputs": [],
   "source": [
    "mask = [importance > 0]"
   ]
  },
  {
   "cell_type": "code",
   "execution_count": 135,
   "metadata": {},
   "outputs": [],
   "source": [
    "import numpy.ma as ma\n",
    "features = np.array(trainSet.columns)"
   ]
  },
  {
   "cell_type": "code",
   "execution_count": 137,
   "metadata": {},
   "outputs": [],
   "source": [
    "mx = ma.masked_array(features, mask)"
   ]
  },
  {
   "cell_type": "code",
   "execution_count": 138,
   "metadata": {},
   "outputs": [
    {
     "data": {
      "text/plain": [
       "masked_array(data=[--, --, --, 'grade_B', --, --, 'grade_E', 'grade_F',\n",
       "                   'grade_G', --, 'emp_length_1', 'emp_length_10',\n",
       "                   'emp_length_2', 'emp_length_3', 'emp_length_4',\n",
       "                   'emp_length_5', 'emp_length_6', 'emp_length_7',\n",
       "                   'emp_length_8', 'emp_length_9',\n",
       "                   'new_purpose_debt_consolidation', 'new_purpose_other',\n",
       "                   'cat_home_ownership_OTHER', --, --, --, --,\n",
       "                   'num_rev_accts', --, 'num_rev_tl_bal_gt_0', --, --, --,\n",
       "                   'open_acc', --, 'num_bc_tl', --, --,\n",
       "                   'chargeoff_within_12_mths', --,\n",
       "                   'num_accts_ever_120_pd', 'total_bal_ex_mort', --,\n",
       "                   'pub_rec_bankruptcies', 'num_tl_op_past_12m',\n",
       "                   'num_tl_120dpd_2m', --, --, 'bc_util', --, 'revol_bal',\n",
       "                   'tot_coll_amt', --, --, --, 'tot_cur_bal', --,\n",
       "                   'revol_util', --, 'num_op_rev_tl', 'pct_tl_nvr_dlq',\n",
       "                   --, --, --, --, --, --, --, --, --, --, --, --,\n",
       "                   'num_tl_90g_dpd_24m', --, --, --, --, 'tax_liens',\n",
       "                   'total_rev_hi_lim', --],\n",
       "             mask=[ True,  True,  True, False,  True,  True, False, False,\n",
       "                   False,  True, False, False, False, False, False, False,\n",
       "                   False, False, False, False, False, False, False,  True,\n",
       "                    True,  True,  True, False,  True, False,  True,  True,\n",
       "                    True, False,  True, False,  True,  True, False,  True,\n",
       "                   False, False,  True, False, False, False,  True,  True,\n",
       "                   False,  True, False, False,  True,  True,  True, False,\n",
       "                    True, False,  True, False, False,  True,  True,  True,\n",
       "                    True,  True,  True,  True,  True,  True,  True,  True,\n",
       "                    True, False,  True,  True,  True,  True, False, False,\n",
       "                    True],\n",
       "       fill_value='?',\n",
       "            dtype=object)"
      ]
     },
     "execution_count": 138,
     "metadata": {},
     "output_type": "execute_result"
    }
   ],
   "source": [
    "mx"
   ]
  },
  {
   "cell_type": "code",
   "execution_count": 139,
   "metadata": {},
   "outputs": [],
   "source": [
    "predictions = clf.predict(testSet)\n",
    "cm = confusion_matrix(df_Ytest, predictions)"
   ]
  },
  {
   "cell_type": "code",
   "execution_count": 140,
   "metadata": {},
   "outputs": [
    {
     "data": {
      "image/png": "[encoded data removed]",
      "text/plain": [
       "<Figure size 648x648 with 2 Axes>"
      ]
     },
     "metadata": {
      "needs_background": "light"
     },
     "output_type": "display_data"
    }
   ],
   "source": [
    "plt.figure(figsize=(9,9))\n",
    "sns.heatmap(cm, annot=True, fmt=\".3f\", linewidths=.5, square = True, cmap = 'Blues_r');\n",
    "plt.ylabel('Actual label');\n",
    "plt.xlabel('Predicted label');\n",
    "all_sample_title = 'Confusion Matrix'\n",
    "plt.title(all_sample_title, size = 15);"
   ]
  },
  {
   "cell_type": "code",
   "execution_count": null,
   "metadata": {},
   "outputs": [],
   "source": []
  },
  {
   "cell_type": "code",
   "execution_count": 142,
   "metadata": {},
   "outputs": [],
   "source": [
    "n_probs = [0 for _ in range(len(testSet))] # Naive predicted probabilities, all 0, which is the dominant class\n",
    "lr_probs = clf.predict_proba(testSet) #Logistic Regression predicted probabilities"
   ]
  },
  {
   "cell_type": "code",
   "execution_count": 143,
   "metadata": {},
   "outputs": [
    {
     "name": "stdout",
     "output_type": "stream",
     "text": [
      "Naive: ROC AUC=0.500\n",
      "Logistic: ROC AUC=0.710\n"
     ]
    }
   ],
   "source": [
    "#clf.classes_\n",
    "lr_probs = lr_probs[:, 1]\n",
    "#Calculate and print auc score\n",
    "n_auc = roc_auc_score(df_Ytest, n_probs)\n",
    "lr_auc = roc_auc_score(df_Ytest, lr_probs)\n",
    "print('Naive: ROC AUC=%.3f' % (n_auc))\n",
    "print('Logistic: ROC AUC=%.3f' % (lr_auc))"
   ]
  },
  {
   "cell_type": "code",
   "execution_count": null,
   "metadata": {},
   "outputs": [],
   "source": []
  },
  {
   "cell_type": "markdown",
   "metadata": {},
   "source": [
    "\n",
    "#RF for var select\n",
    "#IV and WOE\n"
   ]
  }
 ],
 "metadata": {
  "kernelspec": {
   "display_name": "Python 3",
   "language": "python",
   "name": "python3"
  },
  "language_info": {
   "codemirror_mode": {
    "name": "ipython",
    "version": 3
   },
   "file_extension": ".py",
   "mimetype": "text/x-python",
   "name": "python",
   "nbconvert_exporter": "python",
   "pygments_lexer": "ipython3",
   "version": "3.6.8"
  }
 },
 "nbformat": 4,
 "nbformat_minor": 2
}
