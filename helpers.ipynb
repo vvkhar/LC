{
 "cells": [
  {
   "cell_type": "code",
   "execution_count": 5,
   "metadata": {},
   "outputs": [],
   "source": [
    "def compress_field(df, old_series, new_series, other_fields, new_field):\n",
    "    df[new_series] = df[old_series]\n",
    "    return df.loc[df[old_series].isin(other_fields), new_field] = 'other'"
   ]
  },
  {
   "cell_type": "code",
   "execution_count": 6,
   "metadata": {},
   "outputs": [],
   "source": [
    "import seaborn as sns\n",
    "import matplotlib.pyplot as plt\n",
    "from sklearn.metrics import accuracy_score, confusion_matrix,roc_curve, roc_auc_score, precision_score, \\\n",
    "                            recall_score, precision_recall_curve\n",
    "from sklearn.metrics import auc\n",
    "\n",
    "\n",
    "def conf_mat(model, xdf, ydf):\n",
    "    predictions = model.predict(xdf)\n",
    "    cm = confusion_matrix(ydf, predictions).T\n",
    "    cm = (cm.astype('float')/cm.sum(axis=0))\n",
    "    plt.figure(figsize=(9,9))\n",
    "    sns.heatmap(cm, annot=True, fmt=\".3f\", linewidths=.5, square = True, cmap = 'Blues_r');\n",
    "    plt.xlabel('Actual label');\n",
    "    plt.ylabel('Predicted label');\n",
    "    title = 'Confusion Matrix'\n",
    "    plt.title(title, size = 15);\n",
    "        \n",
    "        "
   ]
  },
  {
   "cell_type": "code",
   "execution_count": 7,
   "metadata": {},
   "outputs": [],
   "source": [
    "def auc_score_plot(model, xdf, ydf):\n",
    "    n_probs = [0 for _ in range(len(xdf))] # Naive predicted probabilities, all 0, which is the dominant class\n",
    "    lr_probs = model.predict_proba(xdf) #Logistic Regression predicted probabilities\n",
    "\n",
    "    lr_probs = lr_probs[:, 1]\n",
    "    #Calculate and print auc score\n",
    "    n_auc = roc_auc_score(ydf, n_probs)\n",
    "    lr_auc = roc_auc_score(ydf, lr_probs)\n",
    "    print('Naive: ROC AUC=', n_auc)\n",
    "    print('Logistic: ROC AUC=%.3f' % (lr_auc))\n",
    "\n",
    "    n_fpr, n_tpr, _ = roc_curve(df_Ytest, n_probs)\n",
    "    lr_fpr, lr_tpr, _ = roc_curve(df_Ytest, lr_probs)\n",
    "\n",
    "    # plot the roc curve for the model\n",
    "    plt.plot(n_fpr, n_tpr, linestyle='--', label='Naive')\n",
    "    plt.plot(lr_fpr, lr_tpr, marker='.', label='Logistic')\n",
    "    # axis labels\n",
    "    plt.xlabel('False Positive Rate')\n",
    "    plt.ylabel('True Positive Rate')\n",
    "    # show the legend\n",
    "    plt.legend()\n",
    "    # show the plot\n",
    "    plt.show()"
   ]
  }
 ],
 "metadata": {
  "kernelspec": {
   "display_name": "Python 3",
   "language": "python",
   "name": "python3"
  },
  "language_info": {
   "codemirror_mode": {
    "name": "ipython",
    "version": 3
   },
   "file_extension": ".py",
   "mimetype": "text/x-python",
   "name": "python",
   "nbconvert_exporter": "python",
   "pygments_lexer": "ipython3",
   "version": "3.6.8"
  }
 },
 "nbformat": 4,
 "nbformat_minor": 2
}
